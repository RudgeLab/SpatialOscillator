{
 "cells": [
  {
   "cell_type": "code",
   "execution_count": 1,
   "metadata": {
    "colab": {},
    "colab_type": "code",
    "id": "DeBGUtL5PIKc"
   },
   "outputs": [],
   "source": [
    "# Paste this notebook on a folder with the pickles that you want to analyze and run it.\n",
    "\n",
    "import sys\n",
    "import os, fnmatch\n",
    "import math\n",
    "import numpy as np\n",
    "import matplotlib.pyplot as plt\n",
    "sys.path.append('.')\n",
    "import pickle\n",
    "import CellModeller\n",
    "#import matplotlib.pyplot as plt"
   ]
  },
  {
   "cell_type": "code",
   "execution_count": 2,
   "metadata": {
    "colab": {},
    "colab_type": "code",
    "id": "6WvDFMvRPIKo"
   },
   "outputs": [],
   "source": [
    "def rad_pos(cellstate):\n",
    "    return np.sqrt(cellstate.pos[0]*cellstate.pos[0]+cellstate.pos[1]*cellstate.pos[1])\n",
    "\n",
    "def lengthHist(picklename, bins, file=False):\n",
    "    print(('opening '+ picklename))\n",
    "    data = pickle.load(open(picklename,'rb'))\n",
    "    cs = data['cellStates']\n",
    "    it = iter(cs)\n",
    "    n = len(cs)\n",
    "    print('Number of cells = '+str(n))\n",
    "    lens = []\n",
    "    r = []\n",
    "    for it in cs:\n",
    "        radialPosition = rad_pos(cs[it])\n",
    "        cellLength = cs[it].length+2*cs[it].radius\n",
    "        r.append(radialPosition)\n",
    "        lens.append(cellLength)\n",
    "        if file:\n",
    "            file.write(str(radialPosition)+', '+ str(cellLength)+'\\n')\n",
    "    #plt.hist(lens,bins)\n",
    "    #heatmap, xedges, yedges = np.histogram2d(r, lens, bins=100)\n",
    "    #extent = [xedges[0], xedges[-1], yedges[0], yedges[-1]]\n",
    "    #plt.imshow(heatmap,extent=extent,aspect='auto')\n",
    "    #plt.show()\n",
    "    #print r, lens\n",
    "    return r, lens\n",
    "\n",
    "def growthHist(picklename, bins, file=False):\n",
    "    print(('opening '+ picklename))\n",
    "    data = pickle.load(open(picklename,'rb'))\n",
    "    cs = data['cellStates']\n",
    "    it = iter(cs)\n",
    "    n = len(cs)\n",
    "    dt = 0.05\n",
    "    print('Number of cells = '+str(n))\n",
    "    gr = []\n",
    "    r = []\n",
    "    for id,cellstate in cs.items():\n",
    "        if cellstate.cellAge > 1:\n",
    "            radialPosition = rad_pos(cellstate)\n",
    "            cellGrowth = cellstate.strainRate/dt\n",
    "            r.append(radialPosition)\n",
    "            gr.append(cellGrowth)\n",
    "            if file:\n",
    "                file.write(str(radialPosition)+', '+ str(cellGrowth)+'\\n')\n",
    "        #plt.hist(lens,bins)\n",
    "    #heatmap, xedges, yedges = np.histogram2d(r, lens, bins=100)\n",
    "    #extent = [xedges[0], xedges[-1], yedges[0], yedges[-1]]\n",
    "    #plt.imshow(heatmap,extent=extent,aspect='auto')\n",
    "    #plt.show()\n",
    "    #print r, lens\n",
    "    return r, gr\n",
    "\n",
    "def dirLengthHist(dir,bins,file=False):\n",
    "    for f in os.listdir(dir):\n",
    "        if '.pickle' in f:\n",
    "            number = f[5:-7]\n",
    "            if file:\n",
    "                fout = open('growthData'+number+'.csv')\n",
    "            print('step number = ', number)\n",
    "            n, gr = lengthHist(dir + f,bins,file)\n",
    "            if file:\n",
    "                fout.close()"
   ]
  },
  {
   "cell_type": "code",
   "execution_count": 3,
   "metadata": {
    "scrolled": true
   },
   "outputs": [
    {
     "name": "stdout",
     "output_type": "stream",
     "text": [
      "opening step-00392.pickle\n",
      "Number of cells = 5015\n",
      "opening step-00949.pickle\n",
      "Number of cells = 50004\n",
      "opening step-00768.pickle\n",
      "Number of cells = 30033\n",
      "opening step-00715.pickle\n",
      "Number of cells = 25040\n",
      "opening step-00908.pickle\n",
      "Number of cells = 45000\n",
      "opening step-00818.pickle\n",
      "Number of cells = 34977\n",
      "opening step-00502.pickle\n",
      "Number of cells = 9980\n",
      "opening step-00000.pickle\n",
      "Number of cells = 1\n",
      "opening step-00585.pickle\n",
      "Number of cells = 14986\n",
      "opening step-00989.pickle\n",
      "Number of cells = 55083\n",
      "opening step-01026.pickle\n",
      "Number of cells = 60068\n",
      "opening step-00864.pickle\n",
      "Number of cells = 39959\n",
      "opening step-00655.pickle\n",
      "Number of cells = 20032\n"
     ]
    }
   ],
   "source": [
    "# Extract data from all pickles in the folder, data tracked with the pickle name\n",
    "listOfFiles = os.listdir('.')\n",
    "pattern = \"*.pickle\"\n",
    "for entry in listOfFiles:\n",
    "    if fnmatch.fnmatch(entry, pattern):\n",
    "        file = os.path.join(entry)\n",
    "        output_file = open('growthData_%s.csv'%entry[:-7],'w')\n",
    "        bin = np.arange(0.0,6.0,0.1)\n",
    "        tf = growthHist(file,bin,output_file)\n",
    "        #output_file.close()         "
   ]
  },
  {
   "cell_type": "code",
   "execution_count": null,
   "metadata": {},
   "outputs": [],
   "source": []
  }
 ],
 "metadata": {
  "colab": {
   "name": "pickle_data_effGrowth_radialDistanse.ipynb",
   "provenance": []
  },
  "kernelspec": {
   "display_name": "Python 3",
   "language": "python",
   "name": "python3"
  },
  "language_info": {
   "codemirror_mode": {
    "name": "ipython",
    "version": 3
   },
   "file_extension": ".py",
   "mimetype": "text/x-python",
   "name": "python",
   "nbconvert_exporter": "python",
   "pygments_lexer": "ipython3",
   "version": "3.8.3"
  }
 },
 "nbformat": 4,
 "nbformat_minor": 1
}
