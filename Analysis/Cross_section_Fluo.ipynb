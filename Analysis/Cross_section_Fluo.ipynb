{
 "cells": [
  {
   "cell_type": "code",
   "execution_count": 6,
   "metadata": {},
   "outputs": [],
   "source": [
    "import sys\n",
    "import os\n",
    "import math\n",
    "import numpy as np\n",
    "sys.path.append('.')\n",
    "import pickle\n",
    "import CellModeller\n",
    "import json\n",
    "import matplotlib.pyplot as plt\n",
    "from scipy.signal import correlate, find_peaks\n",
    "\n",
    "import warnings\n",
    "warnings.filterwarnings('ignore')"
   ]
  },
  {
   "cell_type": "code",
   "execution_count": 7,
   "metadata": {},
   "outputs": [],
   "source": [
    "path = '../Data/CM_RepressilatorDeg03/'\n",
    "files = os.listdir(path)\n",
    "files.sort()\n",
    "# not consider model file\n",
    "files = files[1:]"
   ]
  },
  {
   "cell_type": "code",
   "execution_count": 8,
   "metadata": {},
   "outputs": [],
   "source": [
    "# returns list with the IDs of cells that are in the x, y range\n",
    "def cells_in_range(xmin, xmax, ymin, ymax, cs):\n",
    "    cells_range = []\n",
    "    for c in cs:\n",
    "        if cs[c].pos[0] >= xmin and cs[c].pos[0] <= xmax:\n",
    "            if cs[c].pos[1] >= ymin and cs[c].pos[1] <= ymax:\n",
    "                cells_range.append(c)\n",
    "    cells_range = np.array(cells_range)\n",
    "    \n",
    "    return cells_range"
   ]
  },
  {
   "cell_type": "code",
   "execution_count": 9,
   "metadata": {},
   "outputs": [],
   "source": [
    "# returns discrete x domain, R, G, and B average fluo in the domain\n",
    "def get_avg_fluo(cells_range):\n",
    "    cr_len = len(cells_range)\n",
    "    x = np.zeros(cr_len)\n",
    "    y = np.zeros(cr_len)\n",
    "    R = np.zeros(cr_len)\n",
    "    G = np.zeros(cr_len)\n",
    "    B = np.zeros(cr_len)\n",
    "    \n",
    "    for i, c in enumerate(cells_range):\n",
    "        # discrete space for x\n",
    "        x[i] = math.floor(cs[c].pos[0])\n",
    "        y[i] = cs[c].pos[1]\n",
    "        R[i], G[i], B[i] = cs[c].color[0], cs[c].color[1], cs[c].color[2]\n",
    "        \n",
    "    # for each x (discrete separation of x domain), compute average for R, G, B in the y axis\n",
    "    x_disc = np.unique(x)\n",
    "    R_avg = np.zeros(len(x_disc))\n",
    "    G_avg = np.zeros(len(x_disc))\n",
    "    B_avg = np.zeros(len(x_disc))\n",
    "\n",
    "    for index, x_val in enumerate(x_disc):\n",
    "        ind = np.where(x == x_val)\n",
    "        ## average fluo in R, G, B channels, for position i in domain x\n",
    "        R_avg[index] = np.mean(R[ind])\n",
    "        G_avg[index] = np.mean(G[ind])\n",
    "        B_avg[index] = np.mean(B[ind])\n",
    "        \n",
    "    return x_disc, R_avg, G_avg, B_avg"
   ]
  },
  {
   "cell_type": "code",
   "execution_count": 10,
   "metadata": {},
   "outputs": [],
   "source": [
    "def make_plot_figs(database, path):\n",
    "    # axis limits\n",
    "    x_min = np.min(database[len(database)-1][1])\n",
    "    x_max = np.max(database[len(database)-1][1])\n",
    "    y_lim = 0\n",
    "    y_max = 0.1\n",
    "    for i, d in enumerate(database):\n",
    "        plt.figure()\n",
    "        plt.plot(d[1], d[2], 'r')\n",
    "        plt.plot(d[1], d[3], 'g')\n",
    "        plt.plot(d[1], d[4], 'b')    \n",
    "        plt.xlim(x_min, x_max)\n",
    "        plt.ylim(y_lim, y_max)\n",
    "        z = ''\n",
    "        if len(str(i)) == 1:\n",
    "            z='000'\n",
    "        elif len(str(i)) == 2:\n",
    "            z='00'\n",
    "        elif len(str(i)) == 3:\n",
    "            z='0'\n",
    "        plt.savefig(path+'t' +z+ str(i)+ '.png')"
   ]
  },
  {
   "cell_type": "code",
   "execution_count": 11,
   "metadata": {},
   "outputs": [],
   "source": [
    "def make_video(image_folder, video_name):\n",
    "    images = [img for img in os.listdir(image_folder) if img.endswith(\".png\")]\n",
    "    images.sort()\n",
    "    frame = cv2.imread(os.path.join(image_folder, images[0]))\n",
    "    height, width, layers = frame.shape\n",
    "\n",
    "    video = cv2.VideoWriter(video_name, 0, 7, (width,height))\n",
    "\n",
    "    for image in images:\n",
    "        video.write(cv2.imread(os.path.join(image_folder, image)))\n",
    "\n",
    "    video.release()"
   ]
  },
  {
   "cell_type": "markdown",
   "metadata": {},
   "source": [
    "#### Read each pickle, obtain R, G, B avg Fluo in a discrete domain"
   ]
  },
  {
   "cell_type": "code",
   "execution_count": 12,
   "metadata": {},
   "outputs": [],
   "source": [
    "# range to consider fluorescence in the y-axis\n",
    "y_bound = 10\n",
    "# store each pickle's info\n",
    "database = []\n",
    "\n",
    "# each picke file\n",
    "for f in files:\n",
    "    data = pickle.load(open(path+f,'rb'))\n",
    "    cs = data['cellStates']\n",
    "    it = iter(cs)\n",
    "    #n = len(cs)\n",
    "    \n",
    "    ######################\n",
    "    #### Cross section ###\n",
    "    \n",
    "    pos_x = [cs[it].pos[0] for it in cs]\n",
    "    xmin = math.ceil(min(pos_x))\n",
    "    xmax = math.floor(max(pos_x))\n",
    "    ymin = -y_bound\n",
    "    ymax = y_bound\n",
    "    \n",
    "    # get cells in range\n",
    "    cells_range = cells_in_range(xmin, xmax, ymin, ymax, cs)\n",
    "\n",
    "    x_disc, R_avg, G_avg, B_avg = get_avg_fluo(cells_range)\n",
    "    \n",
    "    ######################\n",
    "    \n",
    "    database.append([int(f[5:10]), list(x_disc), list(R_avg), list(G_avg), list(B_avg)])"
   ]
  },
  {
   "cell_type": "code",
   "execution_count": null,
   "metadata": {},
   "outputs": [],
   "source": [
    "with open('data_contDeg03.json', 'w') as outfile:  \n",
    "    json.dump(database, outfile)"
   ]
  },
  {
   "cell_type": "markdown",
   "metadata": {},
   "source": [
    "#### No need to process pickes again, can open an existing file"
   ]
  },
  {
   "cell_type": "code",
   "execution_count": null,
   "metadata": {},
   "outputs": [],
   "source": [
    "# I can use whatever \"database\" file, in this case I will use the file generated above\n",
    "# but one could just read an existing file and generate the video, make analysis, etc"
   ]
  },
  {
   "cell_type": "code",
   "execution_count": null,
   "metadata": {},
   "outputs": [],
   "source": [
    "with open('data_contDeg03.json') as json_file:  \n",
    "    database = json.load(json_file)"
   ]
  },
  {
   "cell_type": "code",
   "execution_count": null,
   "metadata": {},
   "outputs": [],
   "source": [
    "# delete existing pngs in plots/\n",
    "files = os.listdir('plots/')\n",
    "for f in files:\n",
    "    os.remove('plots/'+f)"
   ]
  },
  {
   "cell_type": "code",
   "execution_count": null,
   "metadata": {},
   "outputs": [],
   "source": [
    "# figure out how not to show plots\n",
    "make_plot_figs(database, 'plots/')"
   ]
  },
  {
   "cell_type": "code",
   "execution_count": null,
   "metadata": {},
   "outputs": [],
   "source": [
    "make_video('plots/', 'colony03.avi')"
   ]
  },
  {
   "cell_type": "markdown",
   "metadata": {},
   "source": [
    "#### Kymo"
   ]
  },
  {
   "cell_type": "code",
   "execution_count": null,
   "metadata": {},
   "outputs": [],
   "source": [
    "x = [np.array(d[1])[np.where(np.array(d[1])>0)].astype(int) for d in database]\n",
    "R = [np.array(d[2])[np.where(np.array(d[1])>0)] for d in database]\n",
    "G = [np.array(d[3])[np.where(np.array(d[1])>0)] for d in database]\n",
    "B = [np.array(d[4])[np.where(np.array(d[1])>0)] for d in database]\n",
    "\n",
    "x_last = x[len(x)-1]\n",
    "kymo = np.zeros([len(database), len(x_last)+1, 3])\n",
    "\n",
    "for i, x_vals in enumerate(x):\n",
    "    kymo[i, x_vals, 0] = R[i]\n",
    "\n",
    "    \n",
    "    kymo[i, x_vals, 1] = G[i]\n",
    "    \n",
    "    kymo[i, x_vals, 2] = B[i]\n",
    "\n",
    "    \n",
    "vals = kymo[:,:,0]\n",
    "kymo[:,:,0] = (vals-vals.min()) / (vals.max()-vals.min())\n",
    "\n",
    "vals = kymo[:,:,1]\n",
    "kymo[:,:,1] = (vals-vals.min()) / (vals.max()-vals.min())\n",
    "\n",
    "vals = kymo[:,:,2]\n",
    "kymo[:,:,2] = (vals-vals.min()) / (vals.max()-vals.min())"
   ]
  },
  {
   "cell_type": "code",
   "execution_count": null,
   "metadata": {},
   "outputs": [],
   "source": [
    "plt.imshow(kymo);"
   ]
  }
 ],
 "metadata": {
  "kernelspec": {
   "display_name": "Python 3",
   "language": "python",
   "name": "python3"
  },
  "language_info": {
   "codemirror_mode": {
    "name": "ipython",
    "version": 3
   },
   "file_extension": ".py",
   "mimetype": "text/x-python",
   "name": "python",
   "nbconvert_exporter": "python",
   "pygments_lexer": "ipython3",
   "version": "3.7.7"
  }
 },
 "nbformat": 4,
 "nbformat_minor": 4
}
