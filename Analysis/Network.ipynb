{
 "cells": [
  {
   "cell_type": "code",
   "execution_count": null,
   "metadata": {},
   "outputs": [],
   "source": [
    "import sys\n",
    "import os\n",
    "import json\n",
    "import pickle\n",
    "import numpy as np\n",
    "import matplotlib.pyplot as plt\n",
    "import networkx as nx\n",
    "import CellModeller\n",
    "from scipy.interpolate import interp1d\n",
    "plt.rcParams['figure.figsize'] = 7, 7"
   ]
  },
  {
   "cell_type": "markdown",
   "metadata": {},
   "source": [
    "#### Funcs"
   ]
  },
  {
   "cell_type": "code",
   "execution_count": null,
   "metadata": {},
   "outputs": [],
   "source": [
    "# continuous model\n",
    "def step(p1, p2, p3, gamma, mu, d, e, n, Dt):\n",
    "    # Update protein concs\n",
    "    nextp1 = p1 + ((d + e*(p3**n))/(1 + p3**n) - gamma*p1 - mu*p1) * Dt\n",
    "    nextp2 = p2 + ((d + e*(p1**n))/(1 + p1**n) - gamma*p2 - mu*p2) * Dt\n",
    "    nextp3 = p3 + ((d + e*(p2**n))/(1 + p2**n) - gamma*p3 - mu*p3) * Dt\n",
    "    return nextp1, nextp2, nextp3"
   ]
  },
  {
   "cell_type": "code",
   "execution_count": null,
   "metadata": {},
   "outputs": [],
   "source": [
    "# Gillespie's"
   ]
  },
  {
   "cell_type": "markdown",
   "metadata": {},
   "source": [
    "#### Build lineage's graph from last pickle"
   ]
  },
  {
   "cell_type": "code",
   "execution_count": null,
   "metadata": {},
   "outputs": [],
   "source": [
    "# using Deg03 to check correct values of \n",
    "path = '../Data/'\n",
    "model = 'simpleGrowth10/'\n",
    "files = os.listdir(path+model)\n",
    "files.sort()\n",
    "# not using module (think on removing it)\n",
    "#files = files[1:]"
   ]
  },
  {
   "cell_type": "code",
   "execution_count": null,
   "metadata": {},
   "outputs": [],
   "source": [
    "# get last pickle's lineage\n",
    "last_pickle = pickle.load(open(path+model+files[-1], 'rb'))"
   ]
  },
  {
   "cell_type": "code",
   "execution_count": null,
   "metadata": {},
   "outputs": [],
   "source": [
    "# constructing data\n",
    "lin = last_pickle['lineage']\n",
    "nodes = list(lin.keys())\n",
    "edges = [(v,k) for k,v in lin.items()]"
   ]
  },
  {
   "cell_type": "code",
   "execution_count": null,
   "metadata": {},
   "outputs": [],
   "source": [
    "# create directed graph\n",
    "G = nx.DiGraph()\n",
    "# add cell's ids as nodes\n",
    "G.add_node(1)\n",
    "G.add_nodes_from(nodes)\n",
    "# add (parent_id, child_id) tuples as edges\n",
    "G.add_edges_from(edges)"
   ]
  },
  {
   "cell_type": "code",
   "execution_count": null,
   "metadata": {},
   "outputs": [],
   "source": [
    "# just testing\n",
    "list(G.successors(1))"
   ]
  },
  {
   "cell_type": "markdown",
   "metadata": {},
   "source": [
    "### Loop over pickles"
   ]
  },
  {
   "cell_type": "markdown",
   "metadata": {},
   "source": [
    "#### Sim params"
   ]
  },
  {
   "cell_type": "code",
   "execution_count": null,
   "metadata": {},
   "outputs": [],
   "source": [
    "# Continuous model params\n",
    "Dt = 0.05\n",
    "gamma = 0.3\n",
    "d = 198.\n",
    "e = 0\n",
    "n = 2\n",
    "\n",
    "# Sim params\n",
    "pickeSteps = 1\n",
    "#time between pickles \n",
    "p_time = Dt*pickeSteps #hours\n",
    "store_folder = path+model[:-1]+'SIM/'"
   ]
  },
  {
   "cell_type": "markdown",
   "metadata": {},
   "source": [
    "#### Initialize pickle 0 with desired initial conditions"
   ]
  },
  {
   "cell_type": "code",
   "execution_count": null,
   "metadata": {},
   "outputs": [],
   "source": [
    "pickle_0 = pickle.load(open(path+model+'step-00000.pickle', 'rb'))\n",
    "pickle_0['cellStates'][1].color = [0, 0, 5.0]\n",
    "with open(store_folder+'step-00000.pickle', 'wb') as handle:\n",
    "    pickle.dump(pickle_0, handle, protocol=pickle.HIGHEST_PROTOCOL)"
   ]
  },
  {
   "cell_type": "code",
   "execution_count": null,
   "metadata": {},
   "outputs": [],
   "source": [
    "#for idx in range(1, len(files)):\n",
    "for idx in range(1, 1000):\n",
    "    print(\"######################################################\")\n",
    "    print(\"idx: \", idx)\n",
    "    # get pickles lineage\n",
    "    # this pickle needs to have concs, so get it from pickle save past iteration\n",
    "    data1 = pickle.load(open(store_folder+files[idx-1], 'rb')) \n",
    "    data2 = pickle.load(open(path+model+files[idx], 'rb'))\n",
    "\n",
    "    # need to identify which cells divided from one pickle to the next\n",
    "    # tells me which cells already divided when compared with previous pickle\n",
    "    # will use: data['cellStates'].keys()\n",
    "\n",
    "    # cells present in 2 but not in 1 (children)\n",
    "    not_in_prev = list(set(data2['cellStates'].keys()) - set(data1['cellStates'].keys()))\n",
    "    \n",
    "    # cell division\n",
    "    if len(not_in_prev) > 0:\n",
    "        # cells in 1 and not in 2 (parents)\n",
    "        not_in_curr = list(set(data1['cellStates'].keys()) - set(data2['cellStates'].keys()))\n",
    "\n",
    "        # each cell in not_in_curr (parents)\n",
    "        for par_cell in not_in_curr:\n",
    "            succ = list(G.successors(par_cell))\n",
    "            \n",
    "            # SPLIT CONC from parent\n",
    "            # 1) get conc from picke 1\n",
    "            concs_1 = data1['cellStates'][par_cell].color\n",
    "            # 2) split conc in 2\n",
    "            new_conc = list(np.array(concs_1)/2)\n",
    "            # 3) assign to each child\n",
    "            data2['cellStates'][succ[0]].color = new_conc\n",
    "            data2['cellStates'][succ[1]].color = new_conc\n",
    "                    \n",
    "            # cells remaining in not_in_prev obj\n",
    "            new_left = list(set(not_in_prev) - set(succ))\n",
    "            # update not_in_prev\n",
    "            not_in_prev = new_left\n",
    "            \n",
    "            #print(\"not_in_prev: \", not_in_prev)\n",
    "         \n",
    "    # no cell division\n",
    "    else:\n",
    "        print(\"No cell division\")\n",
    "    \n",
    "\n",
    "    # RUN CONTINUOUS OR GILLESPIE SIM\n",
    "    # this is for cells that did't get divided\n",
    "    #step(p1, p2, p3, gamma, mu, d, e, n, Dt)\n",
    "    cells_both = list(set(data2['cellStates'].keys()) & set(data1['cellStates'].keys()))    \n",
    "    \n",
    "    # FOR EACH CELL\n",
    "    for c in cells_both:\n",
    "        # calculate concentrations\n",
    "        concs = data1['cellStates'][c].color\n",
    "        #print(f\"conc for cell {c}: \", concs)\n",
    "        p1, p2, p3 = concs[0], concs[1], concs[2]\n",
    "        mu = data2['cellStates'][c].effGrowth\n",
    "        nextp1, nextp2, nextp3 = step(p1, p2, p3, gamma, mu, d, e, n, Dt)\n",
    "        \n",
    "        # assign to next pickle\n",
    "        data2['cellStates'][c].color[0] = nextp1\n",
    "        data2['cellStates'][c].color[1] = nextp2\n",
    "        data2['cellStates'][c].color[2] = nextp3\n",
    "        \n",
    "    # STORE PICKLE WITH NEW CONCS\n",
    "    # needs to have all concs updated\n",
    "    with open(store_folder+files[idx], 'wb') as handle:\n",
    "        pickle.dump(data2, handle, protocol=pickle.HIGHEST_PROTOCOL)"
   ]
  }
 ],
 "metadata": {
  "kernelspec": {
   "display_name": "Python 3",
   "language": "python",
   "name": "python3"
  },
  "language_info": {
   "codemirror_mode": {
    "name": "ipython",
    "version": 3
   },
   "file_extension": ".py",
   "mimetype": "text/x-python",
   "name": "python",
   "nbconvert_exporter": "python",
   "pygments_lexer": "ipython3",
   "version": "3.7.7"
  }
 },
 "nbformat": 4,
 "nbformat_minor": 4
}
