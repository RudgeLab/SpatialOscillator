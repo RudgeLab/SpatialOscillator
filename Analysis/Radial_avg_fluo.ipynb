{
 "cells": [
  {
   "cell_type": "code",
   "execution_count": 1,
   "metadata": {},
   "outputs": [],
   "source": [
    "import sys\n",
    "import os\n",
    "import math\n",
    "import numpy as np\n",
    "sys.path.append('.')\n",
    "import pickle\n",
    "import CellModeller\n",
    "import json\n",
    "import matplotlib.pyplot as plt\n",
    "import cv2\n",
    "from scipy.signal import correlate, find_peaks\n",
    "\n",
    "import warnings\n",
    "warnings.filterwarnings('ignore')\n",
    "plt.rcParams['figure.figsize'] = 7, 7"
   ]
  },
  {
   "cell_type": "markdown",
   "metadata": {},
   "source": [
    "#### open an existing file, so no need to generate database"
   ]
  },
  {
   "cell_type": "code",
   "execution_count": 2,
   "metadata": {},
   "outputs": [],
   "source": [
    "with open('data_contDeg03.json') as json_file:  \n",
    "    database = json.load(json_file)"
   ]
  },
  {
   "cell_type": "code",
   "execution_count": 4,
   "metadata": {},
   "outputs": [],
   "source": [
    "path = '../Data/repressilator_gillespie/'\n",
    "files = os.listdir(path)\n",
    "files.sort()\n",
    "# not consider model file\n",
    "files = files[1:]"
   ]
  },
  {
   "cell_type": "code",
   "execution_count": 5,
   "metadata": {},
   "outputs": [
    {
     "data": {
      "text/plain": [
       "['step-00000.pickle',\n",
       " 'step-00050.pickle',\n",
       " 'step-00100.pickle',\n",
       " 'step-00150.pickle',\n",
       " 'step-00200.pickle',\n",
       " 'step-00250.pickle',\n",
       " 'step-00300.pickle',\n",
       " 'step-00350.pickle',\n",
       " 'step-00400.pickle',\n",
       " 'step-00450.pickle',\n",
       " 'step-00500.pickle',\n",
       " 'step-00550.pickle',\n",
       " 'step-00600.pickle',\n",
       " 'step-00650.pickle']"
      ]
     },
     "execution_count": 5,
     "metadata": {},
     "output_type": "execute_result"
    }
   ],
   "source": [
    "files"
   ]
  },
  {
   "cell_type": "code",
   "execution_count": 31,
   "metadata": {},
   "outputs": [
    {
     "name": "stdout",
     "output_type": "stream",
     "text": [
      "step-00050.pickle\n",
      "step-00100.pickle\n",
      "step-00150.pickle\n",
      "step-00200.pickle\n",
      "step-00250.pickle\n",
      "step-00300.pickle\n",
      "step-00350.pickle\n",
      "step-00400.pickle\n",
      "step-00450.pickle\n",
      "step-00500.pickle\n",
      "step-00550.pickle\n",
      "step-00600.pickle\n",
      "step-00650.pickle\n"
     ]
    },
    {
     "data": {
      "text/plain": [
       "\"\\ndatabase = []\\nwidth = 5\\n# each picke file\\nfor f in files[1:]:\\n    print(f)\\n    data = pickle.load(open(path+f,'rb'))\\n    cs = data['cellStates']\\n    it = iter(cs)\\n    \\n    pos_x = [cs[it].pos[0] for it in cs]\\n    pos_y = [cs[it].pos[1] for it in cs]\\n    \\n    xmax = math.ceil(max(pos_x))\\n    ymax = math.ceil(max(pos_y))\\n    \\n    grid_size = max(xmax, ymax)\\n    xx = np.arange(grid_size)\\n    yy = np.arange(grid_size)\\n    y,x = np.meshgrid(xx,yy)\\n    c = grid_size / 2 - 1/2, grid_size / 2-1/2\\n    \\n    \\n    # radial space\\n    r = np.sqrt((x-c[0])**2 + (y-c[1])**2) \\n    \\n    r_cells = np.array([np.sqrt(cs[it].pos[0]**2+cs[it].pos[1]**2) for it in cs])\\n    R_cells = np.array([cs[it].color[0] for it in cs])\\n    G_cells = np.array([cs[it].color[1] for it in cs])\\n    B_cells = np.array([cs[it].color[2] for it in cs])\\n    \\n    nbins = int(r.max() // width)\\n    bins_acc = []\\n    R_acc = []\\n    G_acc = []\\n    B_acc = []\\n    for dr in range(nbins):\\n        bins_acc.append(dr*width)\\n        \\n        idx = np.where((r_cells > dr*width)*(r_cells < (dr+1)*width))\\n        R_acc.append(np.mean(R_cells[idx]))\\n        G_acc.append(np.mean(G_cells[idx]))\\n        B_acc.append(np.mean(B_cells[idx]))\\n        \\n    database.append([bins_acc, R_acc, G_acc, B_acc])\\n    \""
      ]
     },
     "execution_count": 31,
     "metadata": {},
     "output_type": "execute_result"
    }
   ],
   "source": [
    "database = []\n",
    "width = 3\n",
    "for f in files[1:]:\n",
    "    print(f)\n",
    "    data = pickle.load(open(path+f,'rb'))\n",
    "    cs = data['cellStates']\n",
    "    it = iter(cs)\n",
    "    \n",
    "    pos_x = np.array([cs[it].pos[0] for it in cs])\n",
    "    pos_y = np.array([cs[it].pos[1] for it in cs])\n",
    "    \n",
    "    # radial space\n",
    "    r_cells = np.sqrt(pos_x**2 + pos_y**2)\n",
    "    \n",
    "    r_cells = np.array([np.sqrt(cs[it].pos[0]**2+cs[it].pos[1]**2) for it in cs])\n",
    "    R_cells = np.array([cs[it].color[0] for it in cs])\n",
    "    G_cells = np.array([cs[it].color[1] for it in cs])\n",
    "    B_cells = np.array([cs[it].color[2] for it in cs])\n",
    "    \n",
    "    \n",
    "    #print(f\"Index: {i}, max_rad:{r_cells.max()}\")\n",
    "    nbins = int(r.max() // width)\n",
    "    bins_acc = []\n",
    "    R_acc = []\n",
    "    G_acc = []\n",
    "    B_acc = []\n",
    "    for dr in range(nbins):\n",
    "        bins_acc.append(dr*width)\n",
    "        \n",
    "        idx = np.where((r_cells > dr*width)*(r_cells < (dr+1)*width))\n",
    "        R_acc.append(np.mean(R_cells[idx]))\n",
    "        G_acc.append(np.mean(G_cells[idx]))\n",
    "        B_acc.append(np.mean(B_cells[idx]))\n",
    "        \n",
    "    database.append([bins_acc, R_acc, G_acc, B_acc])\n",
    "\n",
    "\n",
    "\"\"\"\n",
    "database = []\n",
    "width = 5\n",
    "# each picke file\n",
    "for f in files[1:]:\n",
    "    print(f)\n",
    "    data = pickle.load(open(path+f,'rb'))\n",
    "    cs = data['cellStates']\n",
    "    it = iter(cs)\n",
    "    \n",
    "    pos_x = [cs[it].pos[0] for it in cs]\n",
    "    pos_y = [cs[it].pos[1] for it in cs]\n",
    "    \n",
    "    xmax = math.ceil(max(pos_x))\n",
    "    ymax = math.ceil(max(pos_y))\n",
    "    \n",
    "    grid_size = max(xmax, ymax)\n",
    "    xx = np.arange(grid_size)\n",
    "    yy = np.arange(grid_size)\n",
    "    y,x = np.meshgrid(xx,yy)\n",
    "    c = grid_size / 2 - 1/2, grid_size / 2-1/2\n",
    "    \n",
    "    \n",
    "    # radial space\n",
    "    r = np.sqrt((x-c[0])**2 + (y-c[1])**2) \n",
    "    \n",
    "    r_cells = np.array([np.sqrt(cs[it].pos[0]**2+cs[it].pos[1]**2) for it in cs])\n",
    "    R_cells = np.array([cs[it].color[0] for it in cs])\n",
    "    G_cells = np.array([cs[it].color[1] for it in cs])\n",
    "    B_cells = np.array([cs[it].color[2] for it in cs])\n",
    "    \n",
    "    nbins = int(r.max() // width)\n",
    "    bins_acc = []\n",
    "    R_acc = []\n",
    "    G_acc = []\n",
    "    B_acc = []\n",
    "    for dr in range(nbins):\n",
    "        bins_acc.append(dr*width)\n",
    "        \n",
    "        idx = np.where((r_cells > dr*width)*(r_cells < (dr+1)*width))\n",
    "        R_acc.append(np.mean(R_cells[idx]))\n",
    "        G_acc.append(np.mean(G_cells[idx]))\n",
    "        B_acc.append(np.mean(B_cells[idx]))\n",
    "        \n",
    "    database.append([bins_acc, R_acc, G_acc, B_acc])\n",
    "    \"\"\""
   ]
  },
  {
   "cell_type": "code",
   "execution_count": 32,
   "metadata": {},
   "outputs": [],
   "source": [
    "# extracting vectors from file\n",
    "x = [d[0] for d in database]\n",
    "R = [d[1] for d in database]\n",
    "G = [d[2] for d in database]\n",
    "B = [d[3] for d in database]\n",
    "\n",
    "kymo = np.zeros([len(database), len(x[-1]), 3])\n",
    "kymo[:] = np.nan\n",
    "for i, x_vals in enumerate(x):\n",
    "    kymo[i, :len(x_vals), 0] = R[i]\n",
    "    kymo[i, :len(x_vals), 1] = G[i]\n",
    "    kymo[i, :len(x_vals), 2] = B[i]\n",
    "\n",
    "vals = kymo[:,:,0]\n",
    "kymo[:,:,0] = vals / np.nanmax(vals)\n",
    "\n",
    "vals = kymo[:,:,1]\n",
    "kymo[:,:,1] = vals / np.nanmax(vals)\n",
    "\n",
    "vals = kymo[:,:,2]\n",
    "kymo[:,:,2] = vals / np.nanmax(vals)\n",
    "\n",
    "\n",
    "# save file\n",
    "#np.save(f\"kymo_TEST_{file[13:-5]}.npy\", kymo)"
   ]
  },
  {
   "cell_type": "code",
   "execution_count": 33,
   "metadata": {},
   "outputs": [
    {
     "data": {
      "text/plain": [
       "<matplotlib.image.AxesImage at 0x7f5039ecdc90>"
      ]
     },
     "execution_count": 33,
     "metadata": {},
     "output_type": "execute_result"
    },
    {
     "data": {
      "image/png": "[encoded data removed]",
      "text/plain": [
       "<Figure size 504x504 with 1 Axes>"
      ]
     },
     "metadata": {
      "needs_background": "light"
     },
     "output_type": "display_data"
    }
   ],
   "source": [
    "plt.imshow(kymo)"
   ]
  },
  {
   "cell_type": "code",
   "execution_count": 8,
   "metadata": {},
   "outputs": [],
   "source": [
    "with open('data_gillespie.json', 'w') as outfile:  \n",
    "    json.dump(database, outfile)"
   ]
  },
  {
   "cell_type": "markdown",
   "metadata": {},
   "source": [
    "#### Open a file"
   ]
  },
  {
   "cell_type": "code",
   "execution_count": 20,
   "metadata": {},
   "outputs": [],
   "source": [
    "#with open('data_contDeg03.json') as json_file:  \n",
    "with open('data_gillespie.json') as json_file:  \n",
    "    database = json.load(json_file)"
   ]
  },
  {
   "cell_type": "code",
   "execution_count": 21,
   "metadata": {},
   "outputs": [],
   "source": [
    "x = [d[0] for d in database]\n",
    "R = [d[1] for d in database]\n",
    "G = [d[2] for d in database]\n",
    "B = [d[3] for d in database]"
   ]
  },
  {
   "cell_type": "code",
   "execution_count": 22,
   "metadata": {},
   "outputs": [],
   "source": [
    "kymo = np.zeros([len(database), len(x[-1]), 3])\n",
    "for i, x_vals in enumerate(x):\n",
    "    kymo[i, :len(x_vals), 0] = R[i]\n",
    "    kymo[i, :len(x_vals), 1] = G[i]\n",
    "    kymo[i, :len(x_vals), 2] = B[i]\n",
    "\n",
    "vals = kymo[:,:,0]\n",
    "kymo[:,:,0] = (vals-vals.min()) / (vals.max()-vals.min())\n",
    "\n",
    "vals = kymo[:,:,1]\n",
    "kymo[:,:,1] = (vals-vals.min()) / (vals.max()-vals.min())\n",
    "\n",
    "vals = kymo[:,:,2]\n",
    "kymo[:,:,2] = (vals-vals.min()) / (vals.max()-vals.min())"
   ]
  },
  {
   "cell_type": "code",
   "execution_count": 23,
   "metadata": {},
   "outputs": [
    {
     "data": {
      "image/png": "[encoded data removed]",
      "text/plain": [
       "<Figure size 504x504 with 1 Axes>"
      ]
     },
     "metadata": {
      "needs_background": "light"
     },
     "output_type": "display_data"
    }
   ],
   "source": [
    "plt.imshow(kymo);"
   ]
  },
  {
   "cell_type": "markdown",
   "metadata": {},
   "source": [
    "### Calculate speed"
   ]
  },
  {
   "cell_type": "code",
   "execution_count": null,
   "metadata": {},
   "outputs": [],
   "source": [
    "nkymo = np.copy(kymo)\n",
    "nkymo[nkymo[:, :, :]==0] = np.nan\n",
    "\n",
    "plt.figure(figsize=(10, 10))\n",
    "plt.imshow(nkymo[:,:,2])\n",
    "pks_list = []\n",
    "\n",
    "for i in range(1, 108, 3):\n",
    "    nk = nkymo[i,1:-1,2]\n",
    "    idx1 = ~np.isnan(nk)\n",
    "    idx2 = ~np.isnan(nk)\n",
    "    idx = idx1 * idx2 # times when both signals are within the colony\n",
    "    nk = nk[idx]\n",
    "    pks,_ = find_peaks(nk)\n",
    "    pks_list.append(pks)\n",
    "    for p in pks:\n",
    "        if p>1 and p<len(nk)-2:\n",
    "            plt.plot(p, i, 'w.')"
   ]
  },
  {
   "cell_type": "code",
   "execution_count": null,
   "metadata": {},
   "outputs": [],
   "source": [
    "vels = []\n",
    "dt = 15\n",
    "for i in range(len(pks_list)-dt):\n",
    "    pks = pks_list[i]\n",
    "    next_pks = pks_list[i+dt]\n",
    "    for pk in pks:\n",
    "        # Find closest peak at next time point\n",
    "        min_dist = 100\n",
    "        for next_pk in next_pks:\n",
    "            dist = np.abs(next_pk-pk)\n",
    "            if dist<min_dist:\n",
    "                min_dist = dist\n",
    "        # Make a threshold to avoid wrap around effects\n",
    "        if min_dist<10:\n",
    "            vel = min_dist/dt\n",
    "        else:\n",
    "            vel = np.nan\n",
    "        vels.append(vel)\n",
    "\n",
    "print('Mean wave speed = ', np.nanmean(vels))"
   ]
  },
  {
   "cell_type": "code",
   "execution_count": null,
   "metadata": {},
   "outputs": [],
   "source": [
    "plt.figure(figsize=(7, 7))\n",
    "plt.imshow(kymo)\n",
    "plt.plot(np.linspace(0,15,100), np.linspace(0,15,100) * (-1 / np.nanmean(vels)) + 107, 'k', linewidth=3);"
   ]
  },
  {
   "cell_type": "markdown",
   "metadata": {},
   "source": [
    "### Speed, BAD way"
   ]
  },
  {
   "cell_type": "code",
   "execution_count": null,
   "metadata": {},
   "outputs": [],
   "source": [
    "#steps = [1, 2, 3, 4, 5, 6, 7, 8, 9]\n",
    "steps = [5]\n",
    "chnls = [0, 1, 2]\n",
    "vels_arr_c = []\n",
    "for chnl in chnls:\n",
    "    print(\"Channel \", chnl)\n",
    "    vels_arr = []\n",
    "    for step in steps:\n",
    "        vels = []\n",
    "        for col in range(kymo.shape[1]-step):\n",
    "            c = correlate(kymo[:,col,chnl]-np.mean(kymo[:,col,chnl]), kymo[:,col,chnl]-np.mean(kymo[:,col,chnl]), mode='same')\n",
    "            cc = correlate(kymo[:,col,chnl]-np.mean(kymo[:,col,chnl]), kymo[:,col+step,chnl]-np.mean(kymo[:,col+step,chnl]), mode='same')\n",
    "\n",
    "            pks_c, _ = find_peaks(c)\n",
    "            pks_cc, _ = find_peaks(cc)\n",
    "\n",
    "            max_c = np.where(c[pks_c]==np.max(c[pks_c]))\n",
    "            idx_max_c = max_c[0][0]\n",
    "            t_c = pks_c[idx_max_c]\n",
    "\n",
    "            max_cc = np.where(cc[pks_cc]==np.max(cc[pks_cc]))\n",
    "            idx_max_cc = max_cc[0][0]\n",
    "            t_cc = pks_cc[idx_max_cc]\n",
    "\n",
    "            vel = (step)*5/((t_cc-t_c)*0.025*10)\n",
    "            vels.append(vel)\n",
    "\n",
    "        plt.plot(vels)\n",
    "        vels_arr.append(vels)\n",
    "        plt.title(f\"step={step}\")\n",
    "        plt.show()\n",
    "    vels_arr_c.append(vels_arr)"
   ]
  },
  {
   "cell_type": "code",
   "execution_count": null,
   "metadata": {},
   "outputs": [],
   "source": [
    "## Observed in plots, the more stable plots:\n",
    "# chnl 0\n",
    "# step 5, 6\n",
    "# chnl 1\n",
    "# step 5\n",
    "# chnl 2\n",
    "# step 5"
   ]
  },
  {
   "cell_type": "markdown",
   "metadata": {},
   "source": [
    "#### R"
   ]
  },
  {
   "cell_type": "code",
   "execution_count": null,
   "metadata": {},
   "outputs": [],
   "source": [
    "plt.plot(vels_arr_c[0][4])"
   ]
  },
  {
   "cell_type": "code",
   "execution_count": null,
   "metadata": {},
   "outputs": [],
   "source": [
    "np.mean(vels_arr_c[0][4][:20])"
   ]
  },
  {
   "cell_type": "code",
   "execution_count": null,
   "metadata": {},
   "outputs": [],
   "source": [
    "plt.plot(vels_arr_c[0][5])"
   ]
  },
  {
   "cell_type": "code",
   "execution_count": null,
   "metadata": {},
   "outputs": [],
   "source": [
    "np.mean(vels_arr_c[0][5][:20])"
   ]
  },
  {
   "cell_type": "markdown",
   "metadata": {},
   "source": [
    "#### G"
   ]
  },
  {
   "cell_type": "code",
   "execution_count": null,
   "metadata": {},
   "outputs": [],
   "source": [
    "plt.plot(vels_arr_c[1][4])"
   ]
  },
  {
   "cell_type": "code",
   "execution_count": null,
   "metadata": {},
   "outputs": [],
   "source": [
    "np.mean(vels_arr_c[1][4][5:20])"
   ]
  },
  {
   "cell_type": "markdown",
   "metadata": {},
   "source": [
    "#### B"
   ]
  },
  {
   "cell_type": "code",
   "execution_count": null,
   "metadata": {},
   "outputs": [],
   "source": [
    "plt.plot(vels_arr_c[2][4])"
   ]
  },
  {
   "cell_type": "code",
   "execution_count": null,
   "metadata": {},
   "outputs": [],
   "source": [
    "np.mean(vels_arr_c[2][4][5:20])"
   ]
  },
  {
   "cell_type": "code",
   "execution_count": null,
   "metadata": {},
   "outputs": [],
   "source": [
    "path = 000 949"
   ]
  },
  {
   "cell_type": "code",
   "execution_count": 35,
   "metadata": {},
   "outputs": [
    {
     "data": {
      "text/plain": [
       "'004'"
      ]
     },
     "execution_count": 35,
     "metadata": {},
     "output_type": "execute_result"
    }
   ],
   "source": [
    "n = '4'\n",
    "n.zfill(3)"
   ]
  },
  {
   "cell_type": "code",
   "execution_count": 39,
   "metadata": {},
   "outputs": [
    {
     "data": {
      "text/plain": [
       "['000',\n",
       " '010',\n",
       " '020',\n",
       " '030',\n",
       " '040',\n",
       " '050',\n",
       " '060',\n",
       " '070',\n",
       " '080',\n",
       " '090',\n",
       " '100',\n",
       " '110',\n",
       " '120',\n",
       " '130',\n",
       " '140',\n",
       " '150',\n",
       " '160',\n",
       " '170',\n",
       " '180',\n",
       " '190',\n",
       " '200',\n",
       " '210',\n",
       " '220',\n",
       " '230',\n",
       " '240',\n",
       " '250',\n",
       " '260',\n",
       " '270',\n",
       " '280',\n",
       " '290',\n",
       " '300',\n",
       " '310',\n",
       " '320',\n",
       " '330',\n",
       " '340',\n",
       " '350',\n",
       " '360',\n",
       " '370',\n",
       " '380',\n",
       " '390',\n",
       " '400',\n",
       " '410',\n",
       " '420',\n",
       " '430',\n",
       " '440',\n",
       " '450',\n",
       " '460',\n",
       " '470',\n",
       " '480',\n",
       " '490',\n",
       " '500',\n",
       " '510',\n",
       " '520',\n",
       " '530',\n",
       " '540',\n",
       " '550',\n",
       " '560',\n",
       " '570',\n",
       " '580',\n",
       " '590',\n",
       " '600',\n",
       " '610',\n",
       " '620',\n",
       " '630',\n",
       " '640',\n",
       " '650',\n",
       " '660',\n",
       " '670',\n",
       " '680',\n",
       " '690',\n",
       " '700',\n",
       " '710',\n",
       " '720',\n",
       " '730',\n",
       " '740',\n",
       " '750',\n",
       " '760',\n",
       " '770',\n",
       " '780',\n",
       " '790',\n",
       " '800',\n",
       " '810',\n",
       " '820',\n",
       " '830',\n",
       " '840',\n",
       " '850',\n",
       " '860',\n",
       " '870',\n",
       " '880',\n",
       " '890',\n",
       " '900',\n",
       " '910',\n",
       " '920',\n",
       " '930',\n",
       " '940']"
      ]
     },
     "execution_count": 39,
     "metadata": {},
     "output_type": "execute_result"
    }
   ],
   "source": [
    "idxs = [str(n).zfill(3) for n in range(0, 950, 10)]"
   ]
  },
  {
   "cell_type": "code",
   "execution_count": null,
   "metadata": {},
   "outputs": [],
   "source": [
    "for file in [sims_files[0]]:\n",
    "    start = time.time()\n",
    "    with open(sims_path+file, 'rb') as jf:\n",
    "        database = json.load(jf)\n",
    "    end = time.time()\n",
    "    \n",
    "    print(f\"Read file took {end-start} secs\")\n",
    "    \n",
    "    for idx in idxs:\n",
    "        data2 = pickle.load(open(pickle_path+f\"step-00{idx}.pickle\", 'rb'))\n",
    "        concR = []\n",
    "        concG = []\n",
    "        concB = []\n",
    "        for k in database[idx].keys():\n",
    "            concR.append(database[idx][str(k)]['fluo'][0])\n",
    "            concG.append(database[idx][str(k)]['fluo'][1])    \n",
    "            concB.append(database[idx][str(k)]['fluo'][2])\n",
    "\n",
    "        mr = max(concR)\n",
    "        mg = max(concG)\n",
    "        mb = max(concB)\n",
    "        max_RGB = np.array([mr,mg,mb])\n",
    "\n",
    "        start = time.time()\n",
    "        for k in database[idx].keys():\n",
    "            conc = np.array(database[idx][str(k)]['fluo']) / max_RGB\n",
    "            data2['cellStates'][int(k)].color = conc.tolist()\n",
    "\n",
    "        with open('pickles_video/0.3_10000.0/'+file[:-5]+'_'+idx+'.pickle', 'wb') as handle:\n",
    "            pickle.dump(data2, handle, protocol=pickle.HIGHEST_PROTOCOL)\n",
    "        end = time.time()\n",
    "        print(f\"Fix and storing file {idx} took {end-start} secs\")"
   ]
  }
 ],
 "metadata": {
  "kernelspec": {
   "display_name": "Python 3",
   "language": "python",
   "name": "python3"
  },
  "language_info": {
   "codemirror_mode": {
    "name": "ipython",
    "version": 3
   },
   "file_extension": ".py",
   "mimetype": "text/x-python",
   "name": "python",
   "nbconvert_exporter": "python",
   "pygments_lexer": "ipython3",
   "version": "3.7.7"
  }
 },
 "nbformat": 4,
 "nbformat_minor": 4
}
