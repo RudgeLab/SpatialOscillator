{
 "cells": [
  {
   "cell_type": "code",
   "execution_count": null,
   "metadata": {},
   "outputs": [],
   "source": [
    "import sys\n",
    "import os\n",
    "import math\n",
    "import numpy as np\n",
    "sys.path.append('.')\n",
    "import pickle\n",
    "import CellModeller\n",
    "import json\n",
    "import matplotlib.pyplot as plt\n",
    "import cv2\n",
    "from scipy.signal import correlate, find_peaks\n",
    "\n",
    "import warnings\n",
    "warnings.filterwarnings('ignore')\n",
    "plt.rcParams['figure.figsize'] = 7, 7"
   ]
  },
  {
   "cell_type": "markdown",
   "metadata": {},
   "source": [
    "#### open an existing file, so no need to generate database"
   ]
  },
  {
   "cell_type": "code",
   "execution_count": null,
   "metadata": {},
   "outputs": [],
   "source": [
    "with open('data_contDeg03.json') as json_file:  \n",
    "    database = json.load(json_file)"
   ]
  },
  {
   "cell_type": "code",
   "execution_count": null,
   "metadata": {},
   "outputs": [],
   "source": [
    "path = '../Data/simpleGrowth10SIM/'\n",
    "files = os.listdir(path)\n",
    "files.sort()\n",
    "# not consider model file\n",
    "#files = files[100:]"
   ]
  },
  {
   "cell_type": "code",
   "execution_count": null,
   "metadata": {},
   "outputs": [],
   "source": [
    "database = []\n",
    "width = 5\n",
    "# each picke file\n",
    "for f in files[10:]:\n",
    "    print(f)\n",
    "    data = pickle.load(open(path+f,'rb'))\n",
    "    cs = data['cellStates']\n",
    "    it = iter(cs)\n",
    "    \n",
    "    pos_x = [cs[it].pos[0] for it in cs]\n",
    "    pos_y = [cs[it].pos[1] for it in cs]\n",
    "    \n",
    "    xmax = math.ceil(max(pos_x))\n",
    "    ymax = math.ceil(max(pos_y))\n",
    "    \n",
    "    grid_size = max(xmax, ymax)\n",
    "    xx = np.arange(grid_size)\n",
    "    yy = np.arange(grid_size)\n",
    "    y,x = np.meshgrid(xx,yy)\n",
    "    c = grid_size / 2 - 1/2, grid_size / 2-1/2\n",
    "    \n",
    "    # radial space\n",
    "    r = np.sqrt((x-c[0])**2 + (y-c[1])**2) \n",
    "    \n",
    "    r_cells = np.array([np.sqrt(cs[it].pos[0]**2+cs[it].pos[1]**2) for it in cs])\n",
    "    R_cells = np.array([cs[it].color[0] for it in cs])\n",
    "    G_cells = np.array([cs[it].color[1] for it in cs])\n",
    "    B_cells = np.array([cs[it].color[2] for it in cs])\n",
    "    \n",
    "    nbins = int(r.max() // width)\n",
    "    bins_acc = []\n",
    "    R_acc = []\n",
    "    G_acc = []\n",
    "    B_acc = []\n",
    "    for dr in range(nbins):\n",
    "        bins_acc.append(dr*width)\n",
    "        \n",
    "        idx = np.where((r_cells > dr*width)*(r_cells < (dr+1)*width))\n",
    "        R_acc.append(np.mean(R_cells[idx]))\n",
    "        G_acc.append(np.mean(G_cells[idx]))\n",
    "        B_acc.append(np.mean(B_cells[idx]))\n",
    "        \n",
    "    database.append([bins_acc, R_acc, G_acc, B_acc])"
   ]
  },
  {
   "cell_type": "code",
   "execution_count": null,
   "metadata": {},
   "outputs": [],
   "source": [
    "with open('data_contSIM.json', 'w') as outfile:  \n",
    "    json.dump(database, outfile)"
   ]
  },
  {
   "cell_type": "markdown",
   "metadata": {},
   "source": [
    "#### Open a file"
   ]
  },
  {
   "cell_type": "code",
   "execution_count": null,
   "metadata": {},
   "outputs": [],
   "source": [
    "#with open('data_contDeg03.json') as json_file:  \n",
    "with open('data_contSIM.json') as json_file:  \n",
    "    database = json.load(json_file)"
   ]
  },
  {
   "cell_type": "code",
   "execution_count": null,
   "metadata": {},
   "outputs": [],
   "source": [
    "x = [d[0] for d in database]\n",
    "R = [d[1] for d in database]\n",
    "G = [d[2] for d in database]\n",
    "B = [d[3] for d in database]"
   ]
  },
  {
   "cell_type": "code",
   "execution_count": null,
   "metadata": {},
   "outputs": [],
   "source": [
    "kymo = np.zeros([len(database), len(x[-1]), 3])\n",
    "for i, x_vals in enumerate(x):\n",
    "    kymo[i, :len(x_vals), 0] = R[i]\n",
    "    kymo[i, :len(x_vals), 1] = G[i]\n",
    "    kymo[i, :len(x_vals), 2] = B[i]\n",
    "\n",
    "vals = kymo[:,:,0]\n",
    "kymo[:,:,0] = (vals-vals.min()) / (vals.max()-vals.min())\n",
    "\n",
    "vals = kymo[:,:,1]\n",
    "kymo[:,:,1] = (vals-vals.min()) / (vals.max()-vals.min())\n",
    "\n",
    "vals = kymo[:,:,2]\n",
    "kymo[:,:,2] = (vals-vals.min()) / (vals.max()-vals.min())"
   ]
  },
  {
   "cell_type": "code",
   "execution_count": null,
   "metadata": {},
   "outputs": [],
   "source": [
    "plt.imshow(kymo[idx,:,:]);"
   ]
  },
  {
   "cell_type": "markdown",
   "metadata": {},
   "source": [
    "### Calculate speed"
   ]
  },
  {
   "cell_type": "code",
   "execution_count": null,
   "metadata": {},
   "outputs": [],
   "source": [
    "nkymo = np.copy(kymo)\n",
    "nkymo[nkymo[:, :, :]==0] = np.nan\n",
    "\n",
    "plt.figure(figsize=(10, 10))\n",
    "plt.imshow(nkymo[:,:,2])\n",
    "pks_list = []\n",
    "\n",
    "for i in range(1, 108, 3):\n",
    "    nk = nkymo[i,1:-1,2]\n",
    "    idx1 = ~np.isnan(nk)\n",
    "    idx2 = ~np.isnan(nk)\n",
    "    idx = idx1 * idx2 # times when both signals are within the colony\n",
    "    nk = nk[idx]\n",
    "    pks,_ = find_peaks(nk)\n",
    "    pks_list.append(pks)\n",
    "    for p in pks:\n",
    "        if p>1 and p<len(nk)-2:\n",
    "            plt.plot(p, i, 'w.')"
   ]
  },
  {
   "cell_type": "code",
   "execution_count": null,
   "metadata": {},
   "outputs": [],
   "source": [
    "vels = []\n",
    "dt = 15\n",
    "for i in range(len(pks_list)-dt):\n",
    "    pks = pks_list[i]\n",
    "    next_pks = pks_list[i+dt]\n",
    "    for pk in pks:\n",
    "        # Find closest peak at next time point\n",
    "        min_dist = 100\n",
    "        for next_pk in next_pks:\n",
    "            dist = np.abs(next_pk-pk)\n",
    "            if dist<min_dist:\n",
    "                min_dist = dist\n",
    "        # Make a threshold to avoid wrap around effects\n",
    "        if min_dist<10:\n",
    "            vel = min_dist/dt\n",
    "        else:\n",
    "            vel = np.nan\n",
    "        vels.append(vel)\n",
    "\n",
    "print('Mean wave speed = ', np.nanmean(vels))"
   ]
  },
  {
   "cell_type": "code",
   "execution_count": null,
   "metadata": {},
   "outputs": [],
   "source": [
    "plt.figure(figsize=(7, 7))\n",
    "plt.imshow(kymo)\n",
    "plt.plot(np.linspace(0,15,100), np.linspace(0,15,100) * (-1 / np.nanmean(vels)) + 107, 'k', linewidth=3);"
   ]
  },
  {
   "cell_type": "markdown",
   "metadata": {},
   "source": [
    "### Speed, BAD way"
   ]
  },
  {
   "cell_type": "code",
   "execution_count": null,
   "metadata": {},
   "outputs": [],
   "source": [
    "#steps = [1, 2, 3, 4, 5, 6, 7, 8, 9]\n",
    "steps = [5]\n",
    "chnls = [0, 1, 2]\n",
    "vels_arr_c = []\n",
    "for chnl in chnls:\n",
    "    print(\"Channel \", chnl)\n",
    "    vels_arr = []\n",
    "    for step in steps:\n",
    "        vels = []\n",
    "        for col in range(kymo.shape[1]-step):\n",
    "            c = correlate(kymo[:,col,chnl]-np.mean(kymo[:,col,chnl]), kymo[:,col,chnl]-np.mean(kymo[:,col,chnl]), mode='same')\n",
    "            cc = correlate(kymo[:,col,chnl]-np.mean(kymo[:,col,chnl]), kymo[:,col+step,chnl]-np.mean(kymo[:,col+step,chnl]), mode='same')\n",
    "\n",
    "            pks_c, _ = find_peaks(c)\n",
    "            pks_cc, _ = find_peaks(cc)\n",
    "\n",
    "            max_c = np.where(c[pks_c]==np.max(c[pks_c]))\n",
    "            idx_max_c = max_c[0][0]\n",
    "            t_c = pks_c[idx_max_c]\n",
    "\n",
    "            max_cc = np.where(cc[pks_cc]==np.max(cc[pks_cc]))\n",
    "            idx_max_cc = max_cc[0][0]\n",
    "            t_cc = pks_cc[idx_max_cc]\n",
    "\n",
    "            vel = (step)*5/((t_cc-t_c)*0.025*10)\n",
    "            vels.append(vel)\n",
    "\n",
    "        plt.plot(vels)\n",
    "        vels_arr.append(vels)\n",
    "        plt.title(f\"step={step}\")\n",
    "        plt.show()\n",
    "    vels_arr_c.append(vels_arr)"
   ]
  },
  {
   "cell_type": "code",
   "execution_count": null,
   "metadata": {},
   "outputs": [],
   "source": [
    "## Observed in plots, the more stable plots:\n",
    "# chnl 0\n",
    "# step 5, 6\n",
    "# chnl 1\n",
    "# step 5\n",
    "# chnl 2\n",
    "# step 5"
   ]
  },
  {
   "cell_type": "markdown",
   "metadata": {},
   "source": [
    "#### R"
   ]
  },
  {
   "cell_type": "code",
   "execution_count": null,
   "metadata": {},
   "outputs": [],
   "source": [
    "plt.plot(vels_arr_c[0][4])"
   ]
  },
  {
   "cell_type": "code",
   "execution_count": null,
   "metadata": {},
   "outputs": [],
   "source": [
    "np.mean(vels_arr_c[0][4][:20])"
   ]
  },
  {
   "cell_type": "code",
   "execution_count": null,
   "metadata": {},
   "outputs": [],
   "source": [
    "plt.plot(vels_arr_c[0][5])"
   ]
  },
  {
   "cell_type": "code",
   "execution_count": null,
   "metadata": {},
   "outputs": [],
   "source": [
    "np.mean(vels_arr_c[0][5][:20])"
   ]
  },
  {
   "cell_type": "markdown",
   "metadata": {},
   "source": [
    "#### G"
   ]
  },
  {
   "cell_type": "code",
   "execution_count": null,
   "metadata": {},
   "outputs": [],
   "source": [
    "plt.plot(vels_arr_c[1][4])"
   ]
  },
  {
   "cell_type": "code",
   "execution_count": null,
   "metadata": {},
   "outputs": [],
   "source": [
    "np.mean(vels_arr_c[1][4][5:20])"
   ]
  },
  {
   "cell_type": "markdown",
   "metadata": {},
   "source": [
    "#### B"
   ]
  },
  {
   "cell_type": "code",
   "execution_count": null,
   "metadata": {},
   "outputs": [],
   "source": [
    "plt.plot(vels_arr_c[2][4])"
   ]
  },
  {
   "cell_type": "code",
   "execution_count": null,
   "metadata": {},
   "outputs": [],
   "source": [
    "np.mean(vels_arr_c[2][4][5:20])"
   ]
  }
 ],
 "metadata": {
  "kernelspec": {
   "display_name": "Python 3",
   "language": "python",
   "name": "python3"
  },
  "language_info": {
   "codemirror_mode": {
    "name": "ipython",
    "version": 3
   },
   "file_extension": ".py",
   "mimetype": "text/x-python",
   "name": "python",
   "nbconvert_exporter": "python",
   "pygments_lexer": "ipython3",
   "version": "3.7.7"
  }
 },
 "nbformat": 4,
 "nbformat_minor": 4
}
