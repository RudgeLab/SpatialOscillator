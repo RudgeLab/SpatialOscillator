{
 "cells": [
  {
   "cell_type": "code",
   "execution_count": null,
   "metadata": {},
   "outputs": [],
   "source": [
    "import numpy as np\n",
    "import matplotlib.pyplot as plt\n",
    "from matplotlib import rc\n",
    "from matplotlib import gridspec\n",
    "rc('text', usetex=False)\n",
    "plt.rcParams.update({'font.size': 8})\n",
    "import scipy\n",
    "from scipy.interpolate import Rbf, interp1d, griddata\n",
    "from scipy.signal import find_peaks\n",
    "from scipy.misc import derivative\n",
    "from scipy.integrate import solve_ivp\n",
    "from scipy.optimize import least_squares\n",
    "import os\n",
    "import time"
   ]
  },
  {
   "cell_type": "code",
   "execution_count": null,
   "metadata": {},
   "outputs": [],
   "source": [
    "def fun(x, gamma, alpha, n):\n",
    "    # Compute growth rates on mesh\n",
    "    mu = np.exp(-x)\n",
    "    vel = 0.5 * (1 - np.exp(-x))\n",
    "    dx = np.mean(np.diff(x))\n",
    "    \n",
    "    def step(t, y):\n",
    "        y = y.reshape((len(x),3))\n",
    "        p1 = y[:,0]\n",
    "        p2 = y[:,1]\n",
    "        p3 = y[:,2]\n",
    "\n",
    "        # Finite difference spatial derivatives\n",
    "        dp1dx = np.zeros_like(x)\n",
    "        dp2dx = np.zeros_like(x)\n",
    "        dp3dx = np.zeros_like(x)\n",
    "        for i in range(1, len(x)-1):\n",
    "            dp1dx[i] = (p1[i+1] - p1[i-1]) * 0.5 / dx\n",
    "            dp2dx[i] = (p2[i+1] - p2[i-1]) * 0.5 / dx\n",
    "            dp3dx[i] = (p3[i+1] - p3[i-1]) * 0.5 / dx\n",
    "        dp1dx[-1] = (p1[-1] - p1[-2]) / dx\n",
    "        dp2dx[-1] = (p2[-1] - p2[-2]) / dx\n",
    "        dp3dx[-1] = (p3[-1] - p3[-2]) / dx\n",
    "        dp1dx[0] = (p1[1] - p1[0]) / dx\n",
    "        dp2dx[0] = (p2[1] - p2[0]) / dx\n",
    "        dp3dx[0] = (p3[1] - p3[0]) / dx\n",
    "\n",
    "        # Update protein concs\n",
    "        dy = np.zeros_like(y)\n",
    "        dp1dt = alpha/(1 + p3**n) - gamma*p1 - mu*p1 - vel*dp1dx\n",
    "        dp2dt = alpha/(1 + p1**n) - gamma*p2 - mu*p2 - vel*dp2dx\n",
    "        dp3dt = alpha/(1 + p2**n) - gamma*p3 - mu*p3 - vel*dp3dx\n",
    "        dy[:,0] = dp1dt\n",
    "        dy[:,1] = dp2dt\n",
    "        dy[:,2] = dp3dt\n",
    "        return dy.ravel()\n",
    "    return step"
   ]
  },
  {
   "cell_type": "code",
   "execution_count": null,
   "metadata": {},
   "outputs": [],
   "source": [
    "def make_kymo(alpha, gamma, n, L, nx, nt):\n",
    "    x = np.linspace(0, L, nx)\n",
    "    y0 = np.zeros((nx,3))\n",
    "    y0[:,1] = 5\n",
    "    y0 = y0.ravel()\n",
    "    res = solve_ivp(fun(x, gamma, alpha, n), t_span=(0,24), y0=y0, t_eval=np.linspace(0,24,nt), method='LSODA')\n",
    "    sol = res.y.reshape((nx,3,nt))\n",
    "    kymo = np.zeros((nx,nt,3))\n",
    "    kymo[:,:,0] = sol[:,0,:]\n",
    "    kymo[:,:,1] = sol[:,1,:]\n",
    "    kymo[:,:,2] = sol[:,2,:]    \n",
    "    return kymo"
   ]
  },
  {
   "cell_type": "code",
   "execution_count": null,
   "metadata": {},
   "outputs": [],
   "source": [
    "kymo = make_kymo(alpha=1e4, gamma=0.3, n=2, L=10, nx=500, nt=500)\n",
    "plt.plot(kymo[:,40,:])"
   ]
  },
  {
   "cell_type": "code",
   "execution_count": null,
   "metadata": {},
   "outputs": [],
   "source": [
    "#for t in range(100):\n",
    "#    sol[t*500/L:,:,t] = np.inf\n",
    "def norm_kymo(kymo):\n",
    "    nkymo = np.zeros_like(kymo)\n",
    "    nkymo[:,:,0] = kymo[:,:,0] / kymo[:,:,0].max()\n",
    "    nkymo[:,:,1] = kymo[:,:,1] / kymo[:,:,1].max()\n",
    "    nkymo[:,:,2] = kymo[:,:,2] / kymo[:,:,2].max()\n",
    "    return nkymo"
   ]
  },
  {
   "cell_type": "code",
   "execution_count": null,
   "metadata": {},
   "outputs": [],
   "source": [
    "def map_kymo(kymo):\n",
    "    rkymo = np.zeros_like(kymo)\n",
    "    nx,nt,_ = kymo.shape\n",
    "    for t in range(nt):\n",
    "        for xx in range((nx//nt*t)//2):\n",
    "            rkymo[nx+xx-(nx//nt*t)//2,t,:] = kymo[xx,t,:]\n",
    "    return rkymo"
   ]
  },
  {
   "cell_type": "code",
   "execution_count": null,
   "metadata": {},
   "outputs": [],
   "source": [
    "rkymo = map_kymo(norm_kymo(kymo))\n",
    "plt.imshow(rkymo, aspect='auto')"
   ]
  },
  {
   "cell_type": "code",
   "execution_count": null,
   "metadata": {},
   "outputs": [],
   "source": [
    "def residuals(data, L, nx, nt):\n",
    "    def func(x):\n",
    "        alpha, gamma, n = x\n",
    "        alpha = 10**alpha\n",
    "        kymo = norm_kymo(make_kymo(alpha, gamma, n, L, nx, nt))\n",
    "        #rkymo = map_kymo(kymo)\n",
    "        residuals = data.ravel() - kymo.ravel()\n",
    "        return residuals\n",
    "    return func"
   ]
  },
  {
   "cell_type": "code",
   "execution_count": null,
   "metadata": {},
   "outputs": [],
   "source": [
    "data = norm_kymo(make_kymo(1e4, 0.3, 2, 10, 200, 100))\n",
    "res = least_squares(\n",
    "    residuals(data, 10, 200,100), \n",
    "    [0,0.3,2], \n",
    "    #bounds=[[0,0,1],[1e6,10,10]],\n",
    "    method='lm'\n",
    ")"
   ]
  },
  {
   "cell_type": "code",
   "execution_count": null,
   "metadata": {},
   "outputs": [],
   "source": [
    "a,g,n = res.x\n",
    "a = 10**a\n",
    "print(a, g, n)\n",
    "k = make_kymo(a, g, n, 10, 200, 100)\n",
    "plt.imshow(norm_kymo(k), aspect='auto')\n",
    "plt.figure()\n",
    "plt.imshow(norm_kymo(data), aspect='auto')"
   ]
  },
  {
   "cell_type": "code",
   "execution_count": null,
   "metadata": {},
   "outputs": [],
   "source": [
    "from numpy.fft import fft2, fftshift\n",
    "frkymo = fftshift(fft2(rkymo[:,:,0]))"
   ]
  },
  {
   "cell_type": "code",
   "execution_count": null,
   "metadata": {},
   "outputs": [],
   "source": [
    "plt.imshow(np.absolute(frkymo[230:270,230:270]))"
   ]
  },
  {
   "cell_type": "code",
   "execution_count": null,
   "metadata": {},
   "outputs": [],
   "source": []
  }
 ],
 "metadata": {
  "kernelspec": {
   "display_name": "Python 3",
   "language": "python",
   "name": "python3"
  },
  "language_info": {
   "codemirror_mode": {
    "name": "ipython",
    "version": 3
   },
   "file_extension": ".py",
   "mimetype": "text/x-python",
   "name": "python",
   "nbconvert_exporter": "python",
   "pygments_lexer": "ipython3",
   "version": "3.8.3"
  }
 },
 "nbformat": 4,
 "nbformat_minor": 4
}
