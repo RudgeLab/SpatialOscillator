{
 "cells": [
  {
   "cell_type": "code",
   "execution_count": null,
   "metadata": {},
   "outputs": [],
   "source": [
    "import numpy as np\n",
    "import matplotlib.pyplot as plt\n",
    "from matplotlib import rc\n",
    "from matplotlib import gridspec\n",
    "rc('text', usetex=False)\n",
    "plt.rcParams.update({'font.size': 8})\n",
    "import scipy\n",
    "from scipy.interpolate import Rbf, interp1d, griddata\n",
    "from scipy.signal import find_peaks\n",
    "from scipy.misc import derivative\n",
    "from scipy.integrate import solve_ivp\n",
    "from scipy.optimize import least_squares\n",
    "import os\n",
    "import time"
   ]
  },
  {
   "cell_type": "code",
   "execution_count": null,
   "metadata": {},
   "outputs": [],
   "source": [
    "def fun(x, gamma, alpha, n):\n",
    "    # Compute growth rates on mesh\n",
    "    mu = np.exp(-x)\n",
    "    vel = 0.5 * (1 -np.exp(-x))\n",
    "    dx = np.mean(np.diff(x))\n",
    "    \n",
    "    def step(t, y):\n",
    "        y = y.reshape((len(x),3))\n",
    "        p1 = y[:,0]\n",
    "        p2 = y[:,1]\n",
    "        p3 = y[:,2]\n",
    "\n",
    "        # Finite difference spatial derivatives\n",
    "        dp1dx = np.zeros_like(x)\n",
    "        dp2dx = np.zeros_like(x)\n",
    "        dp3dx = np.zeros_like(x)\n",
    "        for i in range(1, len(x)-1):\n",
    "            dp1dx[i] = (p1[i] - p1[i-1]) / dx\n",
    "            dp2dx[i] = (p2[i] - p2[i-1]) / dx\n",
    "            dp3dx[i] = (p3[i] - p3[i-1]) / dx\n",
    "        dp1dx[-1] = (p1[-1] - p1[-2]) / dx\n",
    "        dp2dx[-1] = (p2[-1] - p2[-2]) / dx\n",
    "        dp3dx[-1] = (p3[-1] - p3[-2]) / dx\n",
    "        dp1dx[0] = (p1[1] - p1[0]) / dx\n",
    "        dp2dx[0] = (p2[1] - p2[0]) / dx\n",
    "        dp3dx[0] = (p3[1] - p3[0]) / dx\n",
    "\n",
    "        # Update protein concs\n",
    "        dy = np.zeros_like(y)\n",
    "        dp1dt = alpha/(1 + p3**n) - gamma*p1 - mu*p1 - vel*dp1dx\n",
    "        dp2dt = alpha/(1 + p1**n) - gamma*p2 - mu*p2 - vel*dp2dx\n",
    "        dp3dt = alpha/(1 + p2**n) - gamma*p3 - mu*p3 - vel*dp3dx\n",
    "        dy[:,0] = dp1dt\n",
    "        dy[:,1] = dp2dt\n",
    "        dy[:,2] = dp3dt\n",
    "        return dy.ravel()\n",
    "    return step"
   ]
  },
  {
   "cell_type": "code",
   "execution_count": null,
   "metadata": {},
   "outputs": [],
   "source": [
    "def make_kymo_euler(alpha, gamma, n, nx, t0, tmax):\n",
    "    L = (tmax-t0)/2\n",
    "    x = np.linspace(0, L, nx)\n",
    "    dx = np.diff(x).mean()\n",
    "    dt = dx * 0.5\n",
    "    nt = int((tmax-t0) // dt)\n",
    "    dydt = fun(x, gamma, alpha, n)\n",
    "    y = np.zeros((nx,3,nt))\n",
    "    y[:,1,0] = 5\n",
    "    for t in range(1,nt):\n",
    "        y[:,:,t] = y[:,:,t-1] + dydt(t*dt, y[:,:,t-1]).reshape((nx,3)) * dt\n",
    "    kymo = np.zeros((nx,nt,3))\n",
    "    kymo[:,:,0] = y[:,0,:]\n",
    "    kymo[:,:,1] = y[:,1,:]\n",
    "    kymo[:,:,2] = y[:,2,:]\n",
    "    return kymo"
   ]
  },
  {
   "cell_type": "code",
   "execution_count": null,
   "metadata": {},
   "outputs": [],
   "source": [
    "def make_kymo(alpha, gamma, n, nx, nt, t0, tmax):\n",
    "    L = (tmax-t0)/2\n",
    "    x = np.linspace(0, L, nx)\n",
    "    y0 = np.zeros((nx,3))\n",
    "    y0[:,1] = 5\n",
    "    y0 = y0.ravel()\n",
    "    res = solve_ivp(fun(x, gamma, alpha, n), t_span=(t0,tmax), y0=y0, t_eval=np.linspace(t0,tmax,nt), method='LSODA')\n",
    "    sol = res.y.reshape((nx,3,nt))\n",
    "    kymo = np.zeros((nx,nt,3))\n",
    "    kymo[:,:,0] = sol[:,0,:]\n",
    "    kymo[:,:,1] = sol[:,1,:]\n",
    "    kymo[:,:,2] = sol[:,2,:]    \n",
    "    return kymo"
   ]
  },
  {
   "cell_type": "code",
   "execution_count": null,
   "metadata": {},
   "outputs": [],
   "source": [
    "kymo = make_kymo_euler(alpha=1e4, gamma=2, n=2, nx=500, t0=0, tmax=48)\n",
    "plt.plot(kymo[:,40,:])"
   ]
  },
  {
   "cell_type": "code",
   "execution_count": null,
   "metadata": {},
   "outputs": [],
   "source": [
    "#for t in range(100):\n",
    "#    sol[t*500/L:,:,t] = np.inf\n",
    "def norm_kymo(kymo):\n",
    "    nkymo = np.zeros_like(kymo)\n",
    "    nkymo[:,:,0] = kymo[:,:,0] / kymo[:,:,0].max()\n",
    "    nkymo[:,:,1] = kymo[:,:,1] / kymo[:,:,1].max()\n",
    "    nkymo[:,:,2] = kymo[:,:,2] / kymo[:,:,2].max()\n",
    "    return nkymo"
   ]
  },
  {
   "cell_type": "code",
   "execution_count": null,
   "metadata": {},
   "outputs": [],
   "source": [
    "def map_kymo(kymo):\n",
    "    rkymo = np.zeros_like(kymo)\n",
    "    rkymo[:] = np.nan\n",
    "    nx,nt,_ = kymo.shape\n",
    "    for t in range(nt):\n",
    "        for xx in range(((t*nx)//nt)):\n",
    "            rkymo[-xx+((t*nx)//nt),t,:] = kymo[xx,t,:]\n",
    "    return rkymo"
   ]
  },
  {
   "cell_type": "code",
   "execution_count": null,
   "metadata": {},
   "outputs": [],
   "source": [
    "rkymo = map_kymo(norm_kymo(kymo))\n",
    "plt.figure(figsize=(60/25.4, 30/25.4))\n",
    "plt.imshow(rkymo, aspect='auto')\n",
    "plt.xlabel('Time')\n",
    "plt.ylabel('$Rad. pos.$')\n",
    "plt.xticks([])\n",
    "plt.yticks([])"
   ]
  },
  {
   "cell_type": "code",
   "execution_count": null,
   "metadata": {},
   "outputs": [],
   "source": [
    "def residuals(data, L, nx, nt):\n",
    "    def func(x):\n",
    "        alpha, gamma, n = x\n",
    "        alpha = 10**alpha\n",
    "        kymo = norm_kymo(make_kymo(alpha, gamma, n, L, nx, nt))\n",
    "        #rkymo = map_kymo(kymo)\n",
    "        residuals = data.ravel() - kymo.ravel()\n",
    "        return residuals\n",
    "    return func"
   ]
  },
  {
   "cell_type": "code",
   "execution_count": null,
   "metadata": {},
   "outputs": [],
   "source": [
    "data = norm_kymo(make_kymo(1e4, 0.3, 2, 10, 200, 100))\n",
    "res = least_squares(\n",
    "    residuals(data, 10, 200,100), \n",
    "    [0,0.3,2], \n",
    "    #bounds=[[0,0,1],[1e6,10,10]],\n",
    "    method='lm'\n",
    ")"
   ]
  },
  {
   "cell_type": "code",
   "execution_count": null,
   "metadata": {},
   "outputs": [],
   "source": [
    "a,g,n = res.x\n",
    "a = 10**a\n",
    "print(a, g, n)\n",
    "k = make_kymo(a, g, n, 10, 200, 100)\n",
    "plt.imshow(norm_kymo(k), aspect='auto')\n",
    "plt.figure()\n",
    "plt.imshow(norm_kymo(data), aspect='auto')"
   ]
  },
  {
   "cell_type": "code",
   "execution_count": null,
   "metadata": {},
   "outputs": [],
   "source": [
    "from numpy.fft import fft2, fftshift\n",
    "frkymo = fftshift(fft2(rkymo[:,:,0]))"
   ]
  },
  {
   "cell_type": "code",
   "execution_count": null,
   "metadata": {},
   "outputs": [],
   "source": [
    "plt.imshow(np.absolute(frkymo[230:270,230:270]))"
   ]
  },
  {
   "cell_type": "code",
   "execution_count": null,
   "metadata": {},
   "outputs": [],
   "source": [
    "def compute_wave_length(unmapped_kymo, speed, tscale=1, debug=False):\n",
    "  if debug:\n",
    "    plt.figure()\n",
    "    plt.imshow(unmapped_kymo, aspect='auto')\n",
    "\n",
    "  mean_wave_lengths = []\n",
    "  for c in range(3):\n",
    "    # Take the wave at R=0\n",
    "    signal = unmapped_kymo[:,0,c]\n",
    "    pks,props = find_peaks(signal, prominence=0.1)\n",
    "    if debug:\n",
    "      plt.figure()\n",
    "      plt.plot(signal)\n",
    "      plt.plot(pks, signal[pks], '+')\n",
    "    # Compute the frequency\n",
    "    if len(pks)>1:\n",
    "      # Compute average period\n",
    "      mean_period = np.mean(np.diff(pks)) * tscale\n",
    "      mean_freq = 1 / mean_period\n",
    "      mean_wave_length = (speed + 0.5) / mean_freq\n",
    "      mean_wave_lengths.append(mean_wave_length)\n",
    "  return np.mean(mean_wave_lengths)\n",
    "\n",
    "def compute_wave_speed(nkymo, dt=1, tscale=1, rscale=1, debug=False):\n",
    "  if debug:\n",
    "    plt.figure()\n",
    "    plt.imshow(nkymo)\n",
    "\n",
    "  # Find peaks in radial axis\n",
    "  pks_list = []\n",
    "  for channel in range(3):\n",
    "    for i in range(1, nkymo.shape[0], 1):\n",
    "      nk = nkymo[i,1:-1,channel]\n",
    "      idx = ~np.isnan(nk) # times when both signals are within the colony\n",
    "      nk = nk[idx]\n",
    "      pks,props = find_peaks(nk, prominence=0.1)\n",
    "      #print(props['peak_heights'])\n",
    "      # Trim off end points\n",
    "      tpks = []\n",
    "      for p in pks:\n",
    "        if p>1 and p<len(nk)-5:\n",
    "          tpks.append(p)\n",
    "          if debug:\n",
    "            plt.plot(p, i, '.w')\n",
    "      pks_list.append(tpks)\n",
    "\n",
    "  # Track peaks from one timepoint to next +dt\n",
    "  speeds = []\n",
    "  for i in range(len(pks_list)-dt):\n",
    "    pks = pks_list[i]\n",
    "    # Peaks at next time point\n",
    "    next_pks = pks_list[i+dt]\n",
    "    for pk in pks:\n",
    "      # Find closest peak at next time point\n",
    "      min_dist = 10\n",
    "      for next_pk in next_pks:\n",
    "        if next_pk<=pk:\n",
    "          dist = np.abs(next_pk-pk)\n",
    "          if dist<min_dist:\n",
    "            min_dist = dist\n",
    "      # Make a threshold to avoid wrap around effects\n",
    "      if min_dist<10:\n",
    "        speed = min_dist*rscale / (dt*tscale)\n",
    "      else:\n",
    "        speed = np.nan\n",
    "      speeds.append(speed)\n",
    "      \n",
    "  # Average of speeds of peaks, make sure we have enough data for estimate\n",
    "  if len(speeds)>5:\n",
    "    mean_speed = np.nanmean(speeds)\n",
    "  else:\n",
    "    mean_speed = np.nan\n",
    "\n",
    "  nt,nx = nkymo.shape[:2]\n",
    "  x1 = nt*mean_speed/rscale*tscale\n",
    "  y1 = nx/mean_speed*rscale/tscale\n",
    "  if debug:\n",
    "      if x1<nx:\n",
    "        plt.plot([0,x1], [nt,0], 'w')\n",
    "      elif y1<nt:\n",
    "        plt.plot([0,nx], [y1,0], 'w')\n",
    "\n",
    "  #print('Mean wave speed = ', mean_speed)\n",
    "  return mean_speed"
   ]
  },
  {
   "cell_type": "code",
   "execution_count": null,
   "metadata": {},
   "outputs": [],
   "source": []
  },
  {
   "cell_type": "code",
   "execution_count": null,
   "metadata": {},
   "outputs": [],
   "source": [
    "vels = []\n",
    "wavelengths = []\n",
    "gammas = np.linspace(0, 2, 6, endpoint=True)\n",
    "alphas = np.logspace(1, 6, 12, endpoint=True)\n",
    "gamma = 0.5\n",
    "#for gamma in gammas:\n",
    "for alpha in alphas:\n",
    "    kymo = make_kymo_euler(alpha=alpha, gamma=gamma, n=2, nx=250, t0=0, tmax=24)\n",
    "    rkymo = map_kymo(norm_kymo(kymo))\n",
    "    vp = compute_wave_speed(rkymo.transpose(1,0,2), dt=12, tscale=24/kymo.shape[1], rscale=12/kymo.shape[0], debug=False)\n",
    "    wavelength = compute_wave_length(norm_kymo(kymo.transpose(1,0,2)), vp, tscale=24/kymo.shape[1])\n",
    "    vels.append(vp)\n",
    "    wavelengths.append(wavelength)\n",
    "print(kymo.shape)"
   ]
  },
  {
   "cell_type": "code",
   "execution_count": null,
   "metadata": {},
   "outputs": [],
   "source": [
    "print(kymo.shape)\n",
    "\n",
    "print(vels)\n",
    "print(wavelengths)\n",
    "plt.imshow(np.isnan(rkymo[:,:,1]))"
   ]
  },
  {
   "cell_type": "code",
   "execution_count": null,
   "metadata": {},
   "outputs": [],
   "source": [
    "#plt.plot(gammas, vels, '.-')\n",
    "plt.plot(np.log(alphas), wavelengths, '.-')\n",
    "plt.ylim([0,6])\n",
    "print(alphas)"
   ]
  },
  {
   "cell_type": "code",
   "execution_count": null,
   "metadata": {},
   "outputs": [],
   "source": [
    "vp = compute_wave_speed(rkymo, dt=1, tscale=24/250, rscale=20/250, debug=False)\n",
    "print(vp)"
   ]
  },
  {
   "cell_type": "code",
   "execution_count": null,
   "metadata": {},
   "outputs": [],
   "source": [
    "l = compute_wave_length(kymo, vp, tscale=24/250, debug=False)"
   ]
  },
  {
   "cell_type": "code",
   "execution_count": null,
   "metadata": {},
   "outputs": [],
   "source": [
    "l"
   ]
  },
  {
   "cell_type": "code",
   "execution_count": null,
   "metadata": {},
   "outputs": [],
   "source": []
  },
  {
   "cell_type": "code",
   "execution_count": null,
   "metadata": {},
   "outputs": [],
   "source": []
  }
 ],
 "metadata": {
  "kernelspec": {
   "display_name": "Python 3",
   "language": "python",
   "name": "python3"
  },
  "language_info": {
   "codemirror_mode": {
    "name": "ipython",
    "version": 3
   },
   "file_extension": ".py",
   "mimetype": "text/x-python",
   "name": "python",
   "nbconvert_exporter": "python",
   "pygments_lexer": "ipython3",
   "version": "3.8.3"
  }
 },
 "nbformat": 4,
 "nbformat_minor": 4
}
