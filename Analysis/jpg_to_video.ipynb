{
 "cells": [
  {
   "cell_type": "code",
   "execution_count": 1,
   "metadata": {},
   "outputs": [],
   "source": [
    "import numpy as np\n",
    "import matplotlib.pyplot as plt\n",
    "import cv2\n",
    "import json\n",
    "import os\n",
    "import tempfile\n",
    "from pdf2image import convert_from_path, convert_from_bytes\n",
    "import warnings\n",
    "warnings.filterwarnings('ignore')\n",
    "%matplotlib qt"
   ]
  },
  {
   "cell_type": "code",
   "execution_count": 3,
   "metadata": {},
   "outputs": [
    {
     "data": {
      "text/plain": [
       "['data_contSIM_0.0_10000.0.pdf',\n",
       " 'data_contSIM_0.3_100.0.pdf',\n",
       " 'data_contSIM_0.3_10000.0.pdf',\n",
       " 'data_contSIM_1.0_1000.0.pdf']"
      ]
     },
     "execution_count": 3,
     "metadata": {},
     "output_type": "execute_result"
    }
   ],
   "source": [
    "path_pdfs = '../Paper/pdf/Sup/'\n",
    "files = os.listdir(path_pdfs)\n",
    "files.sort()\n",
    "files"
   ]
  },
  {
   "cell_type": "code",
   "execution_count": 4,
   "metadata": {},
   "outputs": [],
   "source": [
    "#save_dir = 'pngs/0.3_10000.0/'\n",
    "save_dir = path_pdfs"
   ]
  },
  {
   "cell_type": "code",
   "execution_count": 5,
   "metadata": {},
   "outputs": [],
   "source": [
    "# pdf to png\n",
    "for filename in files:\n",
    "    with tempfile.TemporaryDirectory() as path:\n",
    "         images_from_path = convert_from_path(path_pdfs+filename, dpi=300, output_folder=path, last_page=1, first_page =0)\n",
    "\n",
    "    base_filename  =  os.path.splitext(os.path.basename(filename))[0] + '.png'     \n",
    "\n",
    "    \n",
    "\n",
    "    for page in images_from_path:\n",
    "        page.save(os.path.join(save_dir, base_filename), 'PNG')"
   ]
  },
  {
   "cell_type": "code",
   "execution_count": 8,
   "metadata": {},
   "outputs": [],
   "source": [
    "# png to video\n",
    "image_folder = save_dir\n",
    "video_name = 'colony0.3_10000_2.avi'\n",
    "\n",
    "images = [img for img in os.listdir(image_folder) if img.endswith(\".png\")]\n",
    "images.sort()\n",
    "frame = cv2.imread(os.path.join(image_folder, images[0]))\n",
    "height, width, layers = frame.shape\n",
    "\n",
    "video = cv2.VideoWriter(video_name, 0, 10, (width,height))\n",
    "\n",
    "for image in images:\n",
    "    video.write(cv2.imread(os.path.join(image_folder, image)))\n",
    "\n",
    "video.release()"
   ]
  },
  {
   "cell_type": "code",
   "execution_count": null,
   "metadata": {},
   "outputs": [],
   "source": []
  }
 ],
 "metadata": {
  "kernelspec": {
   "display_name": "Python 3",
   "language": "python",
   "name": "python3"
  },
  "language_info": {
   "codemirror_mode": {
    "name": "ipython",
    "version": 3
   },
   "file_extension": ".py",
   "mimetype": "text/x-python",
   "name": "python",
   "nbconvert_exporter": "python",
   "pygments_lexer": "ipython3",
   "version": "3.7.7"
  }
 },
 "nbformat": 4,
 "nbformat_minor": 4
}
