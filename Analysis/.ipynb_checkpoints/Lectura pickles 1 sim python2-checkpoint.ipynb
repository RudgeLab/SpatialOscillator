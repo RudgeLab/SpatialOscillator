{
 "cells": [
  {
   "cell_type": "code",
   "execution_count": 2,
   "metadata": {},
   "outputs": [],
   "source": [
    "import sys\n",
    "import os\n",
    "import math\n",
    "import numpy as np\n",
    "sys.path.append('.')\n",
    "import pickle\n",
    "import CellModeller\n",
    "import json"
   ]
  },
  {
   "cell_type": "code",
   "execution_count": 3,
   "metadata": {},
   "outputs": [],
   "source": [
    "import matplotlib.pyplot as plt"
   ]
  },
  {
   "cell_type": "code",
   "execution_count": 4,
   "metadata": {},
   "outputs": [],
   "source": [
    "def rad_pos(cellstate):\n",
    "    return np.sqrt(cellstate.pos[0]*cellstate.pos[0]+cellstate.pos[1]*cellstate.pos[1])"
   ]
  },
  {
   "cell_type": "code",
   "execution_count": 5,
   "metadata": {},
   "outputs": [],
   "source": [
    "path = '../Data/gillespie_0.03/'\n",
    "files = os.listdir('../Data/gillespie_0.03/')\n",
    "files.sort()"
   ]
  },
  {
   "cell_type": "code",
   "execution_count": 6,
   "metadata": {},
   "outputs": [],
   "source": [
    "database = []"
   ]
  },
  {
   "cell_type": "code",
   "execution_count": 7,
   "metadata": {},
   "outputs": [],
   "source": [
    "for f in files:\n",
    "    data = cPickle.load(open('Sim1/'+f,'r'))\n",
    "    cs = data['cellStates']\n",
    "    it = iter(cs)\n",
    "    n = len(cs)\n",
    "    \n",
    "    # Para tener una visión general y extraer el mínimo y máximo de x.\n",
    "    pos_x = []\n",
    "    pos_y = []\n",
    "    for it in cs:\n",
    "        x = cs[it].pos[0]\n",
    "        y = cs[it].pos[1]\n",
    "        pos_x.append(x)\n",
    "        pos_y.append(y)\n",
    "    \n",
    "    # Mínimo y máximo de x e y\n",
    "    xmin = math.ceil(min(pos_x))\n",
    "    xmax = math.floor(max(pos_x))\n",
    "    ymin = -10\n",
    "    ymax = 10\n",
    "    \n",
    "    # Selecciona células que están en el rango de x e y\n",
    "    cells_range = []\n",
    "    for c in cs:\n",
    "        if cs[c].pos[0] >= xmin and cs[c].pos[0] <= xmax:\n",
    "            if cs[c].pos[1] >= ymin and cs[c].pos[1] <= ymax:\n",
    "                cells_range.append(c)\n",
    "    cells_range = np.array(cells_range)\n",
    "    \n",
    "    # Extrae raw data de coordenadas y color de las células que están en el rango\n",
    "    x_range = np.zeros(len(cells_range))\n",
    "    y_range = np.zeros(len(cells_range))\n",
    "    R_range = np.zeros(len(cells_range))\n",
    "    G_range = np.zeros(len(cells_range))\n",
    "    B_range = np.zeros(len(cells_range))\n",
    "\n",
    "    for i, c in enumerate(cells_range):\n",
    "        x_range[i] = math.floor(cs[c].pos[0])\n",
    "        y_range[i] = cs[c].pos[1]\n",
    "        R_range[i] = cs[c].color[0]\n",
    "        G_range[i] = cs[c].color[1]    \n",
    "        B_range[i] = cs[c].color[2]\n",
    "        \n",
    "    # Para los valores únicos de x, suma todos los R, G y B que están en el eje Y y los promedia.\n",
    "    x_prom = np.unique(x_range)\n",
    "    R_prom = np.zeros(len(x_prom))\n",
    "    G_prom = np.zeros(len(x_prom))\n",
    "    B_prom = np.zeros(len(x_prom))\n",
    "    for index, x in enumerate(x_prom):\n",
    "        ind = np.where(x_range == x)\n",
    "        ## Fluorescencia promedio R, G, B para la posición i en el dominio de X\n",
    "        R_prom[index] = np.mean(R_range[ind])\n",
    "        G_prom[index] = np.mean(G_range[ind])\n",
    "        B_prom[index] = np.mean(B_range[ind])\n",
    "        \n",
    "    database.append([int(f[5:10]), list(x_prom), list(R_prom), list(G_prom), list(B_prom)])"
   ]
  },
  {
   "cell_type": "markdown",
   "metadata": {},
   "source": [
    "### Guardo primera BD para analizar"
   ]
  },
  {
   "cell_type": "code",
   "execution_count": 9,
   "metadata": {},
   "outputs": [],
   "source": [
    "with open('data300k.json', 'w') as outfile:  \n",
    "    json.dump(database, outfile)"
   ]
  },
  {
   "cell_type": "markdown",
   "metadata": {},
   "source": [
    "### Leer los datos"
   ]
  },
  {
   "cell_type": "code",
   "execution_count": 10,
   "metadata": {},
   "outputs": [],
   "source": [
    "with open('data300k.json') as json_file:  \n",
    "    database = json.load(json_file)"
   ]
  },
  {
   "cell_type": "code",
   "execution_count": 8,
   "metadata": {},
   "outputs": [],
   "source": [
    "import matplotlib\n",
    "matplotlib.use('TkAgg')\n",
    "import warnings\n",
    "warnings.filterwarnings('ignore')"
   ]
  },
  {
   "cell_type": "code",
   "execution_count": 37,
   "metadata": {},
   "outputs": [],
   "source": [
    "for d in database:\n",
    "    plt.plot(d[1], d[2], 'r')\n",
    "    #plt.plot(d[1], d[3], 'g')\n",
    "    #plt.plot(d[1], d[4], 'b')\n",
    "    plt.title(\"Iteration {}\".format(d[0]))\n",
    "    plt.xlim(-300, 300)\n",
    "    plt.ylim(0, 1.2)\n",
    "    plt.pause(0.1)\n",
    "plt.show()"
   ]
  },
  {
   "cell_type": "code",
   "execution_count": null,
   "metadata": {},
   "outputs": [],
   "source": []
  }
 ],
 "metadata": {
  "kernelspec": {
   "display_name": "Python 3",
   "language": "python",
   "name": "python3"
  },
  "language_info": {
   "codemirror_mode": {
    "name": "ipython",
    "version": 3
   },
   "file_extension": ".py",
   "mimetype": "text/x-python",
   "name": "python",
   "nbconvert_exporter": "python",
   "pygments_lexer": "ipython3",
   "version": "3.8.3"
  }
 },
 "nbformat": 4,
 "nbformat_minor": 2
}
