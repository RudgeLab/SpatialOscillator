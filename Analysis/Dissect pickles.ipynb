{
 "cells": [
  {
   "cell_type": "code",
   "execution_count": 2,
   "metadata": {},
   "outputs": [],
   "source": [
    "import os\n",
    "import pickle\n",
    "import json\n",
    "import numpy as np"
   ]
  },
  {
   "cell_type": "code",
   "execution_count": 3,
   "metadata": {},
   "outputs": [],
   "source": [
    "path = '../../../Desktop/SIMS FINAL/simpleGrowth1-20-05-26-22-02/'\n",
    "files = os.listdir(path)\n",
    "files.sort()"
   ]
  },
  {
   "cell_type": "code",
   "execution_count": 4,
   "metadata": {},
   "outputs": [],
   "source": [
    "files = files[1:]"
   ]
  },
  {
   "cell_type": "code",
   "execution_count": 5,
   "metadata": {},
   "outputs": [
    {
     "data": {
      "text/plain": [
       "5955"
      ]
     },
     "execution_count": 5,
     "metadata": {},
     "output_type": "execute_result"
    }
   ],
   "source": [
    "len(files)"
   ]
  },
  {
   "cell_type": "code",
   "execution_count": 12,
   "metadata": {},
   "outputs": [
    {
     "data": {
      "text/plain": [
       "array([   0,   40,   80,  120,  160,  200,  240,  280,  320,  360,  400,\n",
       "        440,  480,  520,  560,  600,  640,  680,  720,  760,  800,  840,\n",
       "        880,  920,  960, 1000, 1040, 1080, 1120, 1160, 1200, 1240, 1280,\n",
       "       1320, 1360, 1400, 1440, 1480, 1520, 1560, 1600, 1640, 1680, 1720,\n",
       "       1760, 1800, 1840, 1880, 1920, 1960, 2000, 2040, 2080, 2120, 2160,\n",
       "       2200, 2240, 2280, 2320, 2360, 2400, 2440, 2480, 2520, 2560, 2600,\n",
       "       2640, 2680, 2720, 2760, 2800, 2840, 2880, 2920, 2960, 3000, 3040,\n",
       "       3080, 3120, 3160, 3200, 3240, 3280, 3320, 3360, 3400, 3440, 3480,\n",
       "       3520, 3560, 3600, 3640, 3680, 3720, 3760, 3800, 3840, 3880, 3920,\n",
       "       3960, 4000, 4040, 4080, 4120, 4160, 4200, 4240, 4280, 4320, 4360,\n",
       "       4400, 4440, 4480, 4520, 4560, 4600, 4640, 4680, 4720, 4760, 4800,\n",
       "       4840, 4880, 4920, 4960, 5000, 5040, 5080, 5120, 5160, 5200, 5240,\n",
       "       5280, 5320, 5360, 5400, 5440, 5480, 5520, 5560, 5600, 5640, 5680,\n",
       "       5720, 5760, 5800, 5840, 5880, 5920])"
      ]
     },
     "execution_count": 12,
     "metadata": {},
     "output_type": "execute_result"
    }
   ],
   "source": [
    "np.arange(0, len(files)-1, 40)"
   ]
  },
  {
   "cell_type": "code",
   "execution_count": null,
   "metadata": {},
   "outputs": [
    {
     "name": "stdout",
     "output_type": "stream",
     "text": [
      "index: 0, step-00000.pickle: 1 cells\n",
      "index: 40, step-00040.pickle: 2 cells\n",
      "index: 80, step-00125.pickle: 8 cells\n",
      "index: 120, step-00207.pickle: 32 cells\n",
      "index: 160, step-00247.pickle: 48 cells\n",
      "index: 200, step-00313.pickle: 72 cells\n",
      "index: 240, step-00377.pickle: 110 cells\n",
      "index: 280, step-00417.pickle: 138 cells\n",
      "index: 320, step-00457.pickle: 180 cells\n",
      "index: 360, step-00536.pickle: 252 cells\n",
      "index: 400, step-00576.pickle: 305 cells\n",
      "index: 440, step-00648.pickle: 392 cells\n",
      "index: 480, step-00737.pickle: 520 cells\n",
      "index: 520, step-00799.pickle: 621 cells\n",
      "index: 560, step-00862.pickle: 735 cells\n",
      "index: 600, step-00924.pickle: 856 cells\n",
      "index: 640, step-00965.pickle: 949 cells\n",
      "index: 680, step-01063.pickle: 1172 cells\n",
      "index: 720, step-01105.pickle: 1273 cells\n",
      "index: 760, step-01166.pickle: 1417 cells\n",
      "index: 800, step-01206.pickle: 1534 cells\n",
      "index: 840, step-01246.pickle: 1634 cells\n",
      "index: 880, step-01317.pickle: 1830 cells\n",
      "index: 920, step-01358.pickle: 1951 cells\n",
      "index: 960, step-01418.pickle: 2133 cells\n",
      "index: 1000, step-01476.pickle: 2323 cells\n",
      "index: 1040, step-01516.pickle: 2457 cells\n",
      "index: 1080, step-01557.pickle: 2600 cells\n",
      "index: 1120, step-01634.pickle: 2860 cells\n",
      "index: 1160, step-01695.pickle: 3089 cells\n",
      "index: 1200, step-01777.pickle: 3420 cells\n",
      "index: 1240, step-01839.pickle: 3663 cells\n",
      "index: 1280, step-01901.pickle: 3921 cells\n",
      "index: 1320, step-01961.pickle: 4185 cells\n",
      "index: 1360, step-02020.pickle: 4431 cells\n",
      "index: 1400, step-02096.pickle: 4791 cells\n",
      "index: 1440, step-02156.pickle: 5096 cells\n",
      "index: 1480, step-02213.pickle: 5380 cells\n",
      "index: 1520, step-02294.pickle: 5832 cells\n",
      "index: 1560, step-02334.pickle: 6037 cells\n",
      "index: 1600, step-02392.pickle: 6341 cells\n",
      "index: 1640, step-02432.pickle: 6587 cells\n",
      "index: 1680, step-02516.pickle: 7060 cells\n",
      "index: 1720, step-02578.pickle: 7418 cells\n",
      "index: 1760, step-02618.pickle: 7649 cells\n",
      "index: 1800, step-02695.pickle: 8106 cells\n",
      "index: 1840, step-02758.pickle: 8489 cells\n",
      "index: 1880, step-02798.pickle: 8750 cells\n",
      "index: 1920, step-02854.pickle: 9101 cells\n",
      "index: 1960, step-02918.pickle: 9496 cells\n",
      "index: 2000, step-02960.pickle: 9787 cells\n",
      "index: 2040, step-03021.pickle: 10183 cells\n",
      "index: 2080, step-03115.pickle: 10849 cells\n",
      "index: 2120, step-03198.pickle: 11448 cells\n",
      "index: 2160, step-03285.pickle: 12103 cells\n",
      "index: 2200, step-03379.pickle: 12839 cells\n",
      "index: 2240, step-03473.pickle: 13569 cells\n",
      "index: 2280, step-03565.pickle: 14268 cells\n",
      "index: 2320, step-03624.pickle: 14766 cells\n",
      "index: 2360, step-03681.pickle: 15257 cells\n",
      "index: 2400, step-03721.pickle: 15596 cells\n",
      "index: 2440, step-03778.pickle: 16067 cells\n",
      "index: 2480, step-03846.pickle: 16682 cells\n",
      "index: 2520, step-03933.pickle: 17483 cells\n",
      "index: 2560, step-03997.pickle: 18069 cells\n",
      "index: 2600, step-04058.pickle: 18610 cells\n",
      "index: 2640, step-04115.pickle: 19158 cells\n",
      "index: 2680, step-04175.pickle: 19727 cells\n",
      "index: 2720, step-04217.pickle: 20129 cells\n",
      "index: 2760, step-04257.pickle: 20521 cells\n",
      "index: 2800, step-04301.pickle: 20973 cells\n",
      "index: 2840, step-04358.pickle: 21557 cells\n",
      "index: 2880, step-04402.pickle: 22016 cells\n",
      "index: 2920, step-04476.pickle: 22794 cells\n",
      "index: 2960, step-04532.pickle: 23410 cells\n",
      "index: 3000, step-04572.pickle: 23889 cells\n",
      "index: 3040, step-04657.pickle: 24809 cells\n",
      "index: 3080, step-04734.pickle: 25675 cells\n",
      "index: 3120, step-04806.pickle: 26525 cells\n",
      "index: 3160, step-04846.pickle: 26985 cells\n",
      "index: 3200, step-04886.pickle: 27446 cells\n",
      "index: 3240, step-04950.pickle: 28269 cells\n",
      "index: 3280, step-04990.pickle: 28745 cells\n",
      "index: 3320, step-05056.pickle: 29541 cells\n",
      "index: 3360, step-05096.pickle: 30008 cells\n",
      "index: 3400, step-05159.pickle: 30761 cells\n",
      "index: 3440, step-05199.pickle: 31237 cells\n",
      "index: 3480, step-05261.pickle: 32004 cells\n",
      "index: 3520, step-05301.pickle: 32482 cells\n",
      "index: 3560, step-05343.pickle: 32980 cells\n",
      "index: 3600, step-05383.pickle: 33446 cells\n",
      "index: 3640, step-05475.pickle: 34575 cells\n",
      "index: 3680, step-05559.pickle: 35641 cells\n",
      "index: 3720, step-05625.pickle: 36509 cells\n",
      "index: 3760, step-05688.pickle: 37306 cells\n",
      "index: 3800, step-05753.pickle: 38107 cells\n",
      "index: 3840, step-05846.pickle: 39370 cells\n",
      "index: 3880, step-05924.pickle: 40391 cells\n",
      "index: 3920, step-05965.pickle: 40971 cells\n",
      "index: 3960, step-06051.pickle: 42169 cells\n",
      "index: 4000, step-06095.pickle: 42772 cells\n",
      "index: 4040, step-06156.pickle: 43614 cells\n",
      "index: 4080, step-06239.pickle: 44754 cells\n",
      "index: 4120, step-06317.pickle: 45870 cells\n",
      "index: 4160, step-06402.pickle: 47095 cells\n",
      "index: 4200, step-06484.pickle: 48286 cells\n",
      "index: 4240, step-06542.pickle: 49120 cells\n",
      "index: 4280, step-06585.pickle: 49718 cells\n",
      "index: 4320, step-06663.pickle: 50853 cells\n",
      "index: 4360, step-06724.pickle: 51744 cells\n",
      "index: 4400, step-06766.pickle: 52380 cells\n"
     ]
    }
   ],
   "source": [
    "for i in np.arange(0, len(files)-1, 40):\n",
    "    data = pickle.load(open(path+files[i], 'rb'))\n",
    "    print(f\"index: {i}, {files[i]}: {len(data['cellStates'].keys())} cells\")"
   ]
  },
  {
   "cell_type": "code",
   "execution_count": null,
   "metadata": {},
   "outputs": [],
   "source": [
    "# seleccionados primero"
   ]
  },
  {
   "cell_type": "code",
   "execution_count": null,
   "metadata": {},
   "outputs": [],
   "source": [
    "# seleccionados final\n",
    "index: 1425, step-02141.pickle: 5009 cells\n",
    "index: 2024, step-03005.pickle: 10073 cells\n",
    "index: 2338, step-03659.pickle: 15082 cells\n",
    "index: 2707, step-04203.pickle: 20000 cells\n",
    "index: 3052, step-04669.pickle: 24944 cells\n",
    "index: 3360, step-05096.pickle: 30008 cells\n",
    "index: 3651, step-05508.pickle: 34992 cells\n",
    "index: 3870, step-05894.pickle: 40005 cells\n",
    "index: 4091, step-06250.pickle: 44911 cells\n",
    "index: 4291, step-06596.pickle: 49868 cells"
   ]
  },
  {
   "cell_type": "code",
   "execution_count": 60,
   "metadata": {},
   "outputs": [
    {
     "name": "stdout",
     "output_type": "stream",
     "text": [
      "index: 4291, step-06596.pickle: 49868 cells\n"
     ]
    }
   ],
   "source": [
    "i = 4291\n",
    "data = pickle.load(open(path+files[i], 'rb'))\n",
    "print(f\"index: {i}, {files[i]}: {len(data['cellStates'].keys())} cells\")"
   ]
  },
  {
   "cell_type": "code",
   "execution_count": 61,
   "metadata": {},
   "outputs": [
    {
     "name": "stdout",
     "output_type": "stream",
     "text": [
      "step-00000.pickle: 1 cells\n",
      "step-02141.pickle: 5009 cells\n",
      "step-03005.pickle: 10073 cells\n",
      "step-03659.pickle: 15082 cells\n",
      "step-04203.pickle: 20000 cells\n",
      "step-04669.pickle: 24944 cells\n",
      "step-05096.pickle: 30008 cells\n",
      "step-05508.pickle: 34992 cells\n",
      "step-05894.pickle: 40005 cells\n",
      "step-06250.pickle: 44911 cells\n",
      "step-06596.pickle: 49868 cells\n"
     ]
    }
   ],
   "source": [
    "# CHECK FINAL\n",
    "for i in [0, 1425, 2024, 2338, 2707, 3052, 3360, 3651, 3870, 4091, 4291]:\n",
    "    data = pickle.load(open(path+files[i], 'rb'))\n",
    "    print(f\"{files[i]}: {len(data['cellStates'].keys())} cells\")"
   ]
  },
  {
   "cell_type": "code",
   "execution_count": null,
   "metadata": {},
   "outputs": [],
   "source": []
  }
 ],
 "metadata": {
  "kernelspec": {
   "display_name": "Python 3",
   "language": "python",
   "name": "python3"
  },
  "language_info": {
   "codemirror_mode": {
    "name": "ipython",
    "version": 3
   },
   "file_extension": ".py",
   "mimetype": "text/x-python",
   "name": "python",
   "nbconvert_exporter": "python",
   "pygments_lexer": "ipython3",
   "version": "3.7.7"
  }
 },
 "nbformat": 4,
 "nbformat_minor": 4
}
